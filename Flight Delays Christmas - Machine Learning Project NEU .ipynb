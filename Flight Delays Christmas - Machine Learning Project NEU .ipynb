{
 "cells": [
  {
   "cell_type": "markdown",
   "metadata": {},
   "source": [
    "# Flight Delays Christmas - Machine Learning Project"
   ]
  },
  {
   "cell_type": "markdown",
   "metadata": {},
   "source": [
    "## Importing libraries und data"
   ]
  },
  {
   "cell_type": "code",
   "execution_count": 1,
   "metadata": {},
   "outputs": [
    {
     "name": "stdout",
     "output_type": "stream",
     "text": [
      "Populating the interactive namespace from numpy and matplotlib\n"
     ]
    },
    {
     "name": "stderr",
     "output_type": "stream",
     "text": [
      "/Users/Pascale/anaconda3/lib/python3.7/site-packages/IPython/core/magics/pylab.py:160: UserWarning: pylab import has clobbered these variables: ['random']\n",
      "`%matplotlib` prevents importing * from pylab and numpy\n",
      "  \"\\n`%matplotlib` prevents importing * from pylab and numpy\"\n"
     ]
    }
   ],
   "source": [
    "import pandas as pd\n",
    "import math\n",
    "import sklearn\n",
    "import random\n",
    "import numpy as np\n",
    "%matplotlib inline\n",
    "%pylab inline\n",
    "import matplotlib.pyplot as plt\n",
    "import matplotlib.image as mpimg\n",
    "import seaborn as sns\n",
    "sns.set()"
   ]
  },
  {
   "cell_type": "code",
   "execution_count": 2,
   "metadata": {},
   "outputs": [
    {
     "data": {
      "text/html": [
       "<div>\n",
       "<style scoped>\n",
       "    .dataframe tbody tr th:only-of-type {\n",
       "        vertical-align: middle;\n",
       "    }\n",
       "\n",
       "    .dataframe tbody tr th {\n",
       "        vertical-align: top;\n",
       "    }\n",
       "\n",
       "    .dataframe thead th {\n",
       "        text-align: right;\n",
       "    }\n",
       "</style>\n",
       "<table border=\"1\" class=\"dataframe\">\n",
       "  <thead>\n",
       "    <tr style=\"text-align: right;\">\n",
       "      <th></th>\n",
       "      <th>Unnamed: 0</th>\n",
       "      <th>MONTH</th>\n",
       "      <th>DAY</th>\n",
       "      <th>DAY_OF_WEEK</th>\n",
       "      <th>ORIGIN_AIRPORT</th>\n",
       "      <th>DESTINATION_AIRPORT</th>\n",
       "      <th>SCHEDULED_DEPARTURE</th>\n",
       "      <th>ARRIVAL_DELAY</th>\n",
       "      <th>CANCELLED</th>\n",
       "    </tr>\n",
       "  </thead>\n",
       "  <tbody>\n",
       "    <tr>\n",
       "      <th>0</th>\n",
       "      <td>5712760</td>\n",
       "      <td>12</td>\n",
       "      <td>25</td>\n",
       "      <td>5</td>\n",
       "      <td>LAS</td>\n",
       "      <td>DCA</td>\n",
       "      <td>6</td>\n",
       "      <td>-25.0</td>\n",
       "      <td>0</td>\n",
       "    </tr>\n",
       "    <tr>\n",
       "      <th>1</th>\n",
       "      <td>5712761</td>\n",
       "      <td>12</td>\n",
       "      <td>25</td>\n",
       "      <td>5</td>\n",
       "      <td>LAX</td>\n",
       "      <td>DTW</td>\n",
       "      <td>10</td>\n",
       "      <td>-48.0</td>\n",
       "      <td>0</td>\n",
       "    </tr>\n",
       "    <tr>\n",
       "      <th>2</th>\n",
       "      <td>5712762</td>\n",
       "      <td>12</td>\n",
       "      <td>25</td>\n",
       "      <td>5</td>\n",
       "      <td>LAX</td>\n",
       "      <td>DFW</td>\n",
       "      <td>10</td>\n",
       "      <td>-24.0</td>\n",
       "      <td>0</td>\n",
       "    </tr>\n",
       "    <tr>\n",
       "      <th>3</th>\n",
       "      <td>5712763</td>\n",
       "      <td>12</td>\n",
       "      <td>25</td>\n",
       "      <td>5</td>\n",
       "      <td>DEN</td>\n",
       "      <td>ATL</td>\n",
       "      <td>15</td>\n",
       "      <td>-18.0</td>\n",
       "      <td>0</td>\n",
       "    </tr>\n",
       "    <tr>\n",
       "      <th>4</th>\n",
       "      <td>5712764</td>\n",
       "      <td>12</td>\n",
       "      <td>25</td>\n",
       "      <td>5</td>\n",
       "      <td>SFO</td>\n",
       "      <td>CLT</td>\n",
       "      <td>15</td>\n",
       "      <td>-34.0</td>\n",
       "      <td>0</td>\n",
       "    </tr>\n",
       "  </tbody>\n",
       "</table>\n",
       "</div>"
      ],
      "text/plain": [
       "   Unnamed: 0  MONTH  DAY  DAY_OF_WEEK ORIGIN_AIRPORT DESTINATION_AIRPORT  \\\n",
       "0     5712760     12   25            5            LAS                 DCA   \n",
       "1     5712761     12   25            5            LAX                 DTW   \n",
       "2     5712762     12   25            5            LAX                 DFW   \n",
       "3     5712763     12   25            5            DEN                 ATL   \n",
       "4     5712764     12   25            5            SFO                 CLT   \n",
       "\n",
       "   SCHEDULED_DEPARTURE  ARRIVAL_DELAY  CANCELLED  \n",
       "0                    6          -25.0          0  \n",
       "1                   10          -48.0          0  \n",
       "2                   10          -24.0          0  \n",
       "3                   15          -18.0          0  \n",
       "4                   15          -34.0          0  "
      ]
     },
     "execution_count": 2,
     "metadata": {},
     "output_type": "execute_result"
    }
   ],
   "source": [
    "#Import Data from CSV-file\n",
    "flights = pd.read_csv('flights.csv')\n",
    "flights.head()"
   ]
  },
  {
   "cell_type": "markdown",
   "metadata": {},
   "source": [
    "## Data preparation"
   ]
  },
  {
   "cell_type": "code",
   "execution_count": 3,
   "metadata": {},
   "outputs": [
    {
     "data": {
      "text/html": [
       "<div>\n",
       "<style scoped>\n",
       "    .dataframe tbody tr th:only-of-type {\n",
       "        vertical-align: middle;\n",
       "    }\n",
       "\n",
       "    .dataframe tbody tr th {\n",
       "        vertical-align: top;\n",
       "    }\n",
       "\n",
       "    .dataframe thead th {\n",
       "        text-align: right;\n",
       "    }\n",
       "</style>\n",
       "<table border=\"1\" class=\"dataframe\">\n",
       "  <thead>\n",
       "    <tr style=\"text-align: right;\">\n",
       "      <th></th>\n",
       "      <th>Unnamed: 0</th>\n",
       "      <th>MONTH</th>\n",
       "      <th>DAY</th>\n",
       "      <th>DAY_OF_WEEK</th>\n",
       "      <th>ORIGIN_AIRPORT</th>\n",
       "      <th>DESTINATION_AIRPORT</th>\n",
       "      <th>SCHEDULED_DEPARTURE</th>\n",
       "      <th>ARRIVAL_DELAY</th>\n",
       "      <th>CANCELLED</th>\n",
       "    </tr>\n",
       "  </thead>\n",
       "  <tbody>\n",
       "    <tr>\n",
       "      <th>32</th>\n",
       "      <td>5712792</td>\n",
       "      <td>12</td>\n",
       "      <td>25</td>\n",
       "      <td>5</td>\n",
       "      <td>ANC</td>\n",
       "      <td>SEA</td>\n",
       "      <td>45</td>\n",
       "      <td>-38.0</td>\n",
       "      <td>0</td>\n",
       "    </tr>\n",
       "    <tr>\n",
       "      <th>33</th>\n",
       "      <td>5712793</td>\n",
       "      <td>12</td>\n",
       "      <td>25</td>\n",
       "      <td>5</td>\n",
       "      <td>LAS</td>\n",
       "      <td>MSP</td>\n",
       "      <td>46</td>\n",
       "      <td>-16.0</td>\n",
       "      <td>0</td>\n",
       "    </tr>\n",
       "    <tr>\n",
       "      <th>34</th>\n",
       "      <td>5712794</td>\n",
       "      <td>12</td>\n",
       "      <td>25</td>\n",
       "      <td>5</td>\n",
       "      <td>DEN</td>\n",
       "      <td>PHL</td>\n",
       "      <td>49</td>\n",
       "      <td>-28.0</td>\n",
       "      <td>0</td>\n",
       "    </tr>\n",
       "    <tr>\n",
       "      <th>35</th>\n",
       "      <td>5712795</td>\n",
       "      <td>12</td>\n",
       "      <td>25</td>\n",
       "      <td>5</td>\n",
       "      <td>PDX</td>\n",
       "      <td>MSP</td>\n",
       "      <td>50</td>\n",
       "      <td>-18.0</td>\n",
       "      <td>0</td>\n",
       "    </tr>\n",
       "    <tr>\n",
       "      <th>36</th>\n",
       "      <td>5712796</td>\n",
       "      <td>12</td>\n",
       "      <td>25</td>\n",
       "      <td>5</td>\n",
       "      <td>LAX</td>\n",
       "      <td>CLT</td>\n",
       "      <td>50</td>\n",
       "      <td>-26.0</td>\n",
       "      <td>0</td>\n",
       "    </tr>\n",
       "    <tr>\n",
       "      <th>37</th>\n",
       "      <td>5712797</td>\n",
       "      <td>12</td>\n",
       "      <td>25</td>\n",
       "      <td>5</td>\n",
       "      <td>SLC</td>\n",
       "      <td>ATL</td>\n",
       "      <td>55</td>\n",
       "      <td>84.0</td>\n",
       "      <td>0</td>\n",
       "    </tr>\n",
       "    <tr>\n",
       "      <th>38</th>\n",
       "      <td>5712798</td>\n",
       "      <td>12</td>\n",
       "      <td>25</td>\n",
       "      <td>5</td>\n",
       "      <td>LAS</td>\n",
       "      <td>IAH</td>\n",
       "      <td>55</td>\n",
       "      <td>-6.0</td>\n",
       "      <td>0</td>\n",
       "    </tr>\n",
       "    <tr>\n",
       "      <th>39</th>\n",
       "      <td>5712799</td>\n",
       "      <td>12</td>\n",
       "      <td>25</td>\n",
       "      <td>5</td>\n",
       "      <td>LAX</td>\n",
       "      <td>ORD</td>\n",
       "      <td>55</td>\n",
       "      <td>-43.0</td>\n",
       "      <td>0</td>\n",
       "    </tr>\n",
       "    <tr>\n",
       "      <th>40</th>\n",
       "      <td>5712800</td>\n",
       "      <td>12</td>\n",
       "      <td>25</td>\n",
       "      <td>5</td>\n",
       "      <td>LAX</td>\n",
       "      <td>DFW</td>\n",
       "      <td>55</td>\n",
       "      <td>-10.0</td>\n",
       "      <td>0</td>\n",
       "    </tr>\n",
       "    <tr>\n",
       "      <th>41</th>\n",
       "      <td>5712801</td>\n",
       "      <td>12</td>\n",
       "      <td>25</td>\n",
       "      <td>5</td>\n",
       "      <td>LAS</td>\n",
       "      <td>CLT</td>\n",
       "      <td>55</td>\n",
       "      <td>-4.0</td>\n",
       "      <td>0</td>\n",
       "    </tr>\n",
       "    <tr>\n",
       "      <th>42</th>\n",
       "      <td>5712802</td>\n",
       "      <td>12</td>\n",
       "      <td>25</td>\n",
       "      <td>5</td>\n",
       "      <td>ANC</td>\n",
       "      <td>PDX</td>\n",
       "      <td>55</td>\n",
       "      <td>-40.0</td>\n",
       "      <td>0</td>\n",
       "    </tr>\n",
       "  </tbody>\n",
       "</table>\n",
       "</div>"
      ],
      "text/plain": [
       "    Unnamed: 0  MONTH  DAY  DAY_OF_WEEK ORIGIN_AIRPORT DESTINATION_AIRPORT  \\\n",
       "32     5712792     12   25            5            ANC                 SEA   \n",
       "33     5712793     12   25            5            LAS                 MSP   \n",
       "34     5712794     12   25            5            DEN                 PHL   \n",
       "35     5712795     12   25            5            PDX                 MSP   \n",
       "36     5712796     12   25            5            LAX                 CLT   \n",
       "37     5712797     12   25            5            SLC                 ATL   \n",
       "38     5712798     12   25            5            LAS                 IAH   \n",
       "39     5712799     12   25            5            LAX                 ORD   \n",
       "40     5712800     12   25            5            LAX                 DFW   \n",
       "41     5712801     12   25            5            LAS                 CLT   \n",
       "42     5712802     12   25            5            ANC                 PDX   \n",
       "\n",
       "    SCHEDULED_DEPARTURE  ARRIVAL_DELAY  CANCELLED  \n",
       "32                   45          -38.0          0  \n",
       "33                   46          -16.0          0  \n",
       "34                   49          -28.0          0  \n",
       "35                   50          -18.0          0  \n",
       "36                   50          -26.0          0  \n",
       "37                   55           84.0          0  \n",
       "38                   55           -6.0          0  \n",
       "39                   55          -43.0          0  \n",
       "40                   55          -10.0          0  \n",
       "41                   55           -4.0          0  \n",
       "42                   55          -40.0          0  "
      ]
     },
     "execution_count": 3,
     "metadata": {},
     "output_type": "execute_result"
    }
   ],
   "source": [
    "#Selection of range 32-42 to check data cleaning throughout the next steps \n",
    "\n",
    "flights.iloc [32:43]"
   ]
  },
  {
   "cell_type": "code",
   "execution_count": 4,
   "metadata": {},
   "outputs": [
    {
     "data": {
      "text/plain": [
       "Unnamed: 0               0\n",
       "MONTH                    0\n",
       "DAY                      0\n",
       "DAY_OF_WEEK              0\n",
       "ORIGIN_AIRPORT           0\n",
       "DESTINATION_AIRPORT      0\n",
       "SCHEDULED_DEPARTURE      0\n",
       "ARRIVAL_DELAY          192\n",
       "CANCELLED                0\n",
       "dtype: int64"
      ]
     },
     "execution_count": 4,
     "metadata": {},
     "output_type": "execute_result"
    }
   ],
   "source": [
    "#check for missing values \n",
    "\n",
    "flights.isnull().sum()"
   ]
  },
  {
   "cell_type": "code",
   "execution_count": 5,
   "metadata": {},
   "outputs": [
    {
     "data": {
      "text/plain": [
       "MONTH                    0\n",
       "DAY                      0\n",
       "DAY_OF_WEEK              0\n",
       "ORIGIN_AIRPORT           0\n",
       "DESTINATION_AIRPORT      0\n",
       "SCHEDULED_DEPARTURE      0\n",
       "ARRIVAL_DELAY          192\n",
       "CANCELLED                0\n",
       "dtype: int64"
      ]
     },
     "execution_count": 5,
     "metadata": {},
     "output_type": "execute_result"
    }
   ],
   "source": [
    "#Reduce DataFrame by keeping only relevant data\n",
    "\n",
    "df = flights[[\"MONTH\", \"DAY\", \"DAY_OF_WEEK\", \"ORIGIN_AIRPORT\", \"DESTINATION_AIRPORT\", \"SCHEDULED_DEPARTURE\", \"ARRIVAL_DELAY\",\"CANCELLED\"]]\n",
    "df.isnull().sum()"
   ]
  },
  {
   "cell_type": "code",
   "execution_count": 6,
   "metadata": {},
   "outputs": [],
   "source": [
    "#Assing 10 to every missing value as they represent canceled flights\n",
    "#Number 10 is chosen as our limit, every flight with a delay ≥ 10 will be treated as late\n",
    "\n",
    "df = df.fillna({\"ARRIVAL_DELAY\": 10})"
   ]
  },
  {
   "cell_type": "code",
   "execution_count": 7,
   "metadata": {},
   "outputs": [],
   "source": [
    "#Add new column \"effective delay\" ≥ 10 min = 1 as dummy\n",
    "\n",
    "df.loc[df.ARRIVAL_DELAY >= 10, 'EFFECTIVE_DELAY'] = '1' \n",
    "df.loc[df.ARRIVAL_DELAY < 10, 'EFFECTIVE_DELAY'] = '0' "
   ]
  },
  {
   "cell_type": "code",
   "execution_count": 8,
   "metadata": {},
   "outputs": [
    {
     "data": {
      "text/html": [
       "<div>\n",
       "<style scoped>\n",
       "    .dataframe tbody tr th:only-of-type {\n",
       "        vertical-align: middle;\n",
       "    }\n",
       "\n",
       "    .dataframe tbody tr th {\n",
       "        vertical-align: top;\n",
       "    }\n",
       "\n",
       "    .dataframe thead th {\n",
       "        text-align: right;\n",
       "    }\n",
       "</style>\n",
       "<table border=\"1\" class=\"dataframe\">\n",
       "  <thead>\n",
       "    <tr style=\"text-align: right;\">\n",
       "      <th></th>\n",
       "      <th>MONTH</th>\n",
       "      <th>DAY</th>\n",
       "      <th>DAY_OF_WEEK</th>\n",
       "      <th>ORIGIN_AIRPORT</th>\n",
       "      <th>DESTINATION_AIRPORT</th>\n",
       "      <th>SCHEDULED_DEPARTURE</th>\n",
       "      <th>ARRIVAL_DELAY</th>\n",
       "      <th>CANCELLED</th>\n",
       "      <th>EFFECTIVE_DELAY</th>\n",
       "    </tr>\n",
       "  </thead>\n",
       "  <tbody>\n",
       "    <tr>\n",
       "      <th>32</th>\n",
       "      <td>12</td>\n",
       "      <td>25</td>\n",
       "      <td>5</td>\n",
       "      <td>ANC</td>\n",
       "      <td>SEA</td>\n",
       "      <td>45</td>\n",
       "      <td>-38.0</td>\n",
       "      <td>0</td>\n",
       "      <td>0</td>\n",
       "    </tr>\n",
       "    <tr>\n",
       "      <th>33</th>\n",
       "      <td>12</td>\n",
       "      <td>25</td>\n",
       "      <td>5</td>\n",
       "      <td>LAS</td>\n",
       "      <td>MSP</td>\n",
       "      <td>46</td>\n",
       "      <td>-16.0</td>\n",
       "      <td>0</td>\n",
       "      <td>0</td>\n",
       "    </tr>\n",
       "    <tr>\n",
       "      <th>34</th>\n",
       "      <td>12</td>\n",
       "      <td>25</td>\n",
       "      <td>5</td>\n",
       "      <td>DEN</td>\n",
       "      <td>PHL</td>\n",
       "      <td>49</td>\n",
       "      <td>-28.0</td>\n",
       "      <td>0</td>\n",
       "      <td>0</td>\n",
       "    </tr>\n",
       "    <tr>\n",
       "      <th>35</th>\n",
       "      <td>12</td>\n",
       "      <td>25</td>\n",
       "      <td>5</td>\n",
       "      <td>PDX</td>\n",
       "      <td>MSP</td>\n",
       "      <td>50</td>\n",
       "      <td>-18.0</td>\n",
       "      <td>0</td>\n",
       "      <td>0</td>\n",
       "    </tr>\n",
       "    <tr>\n",
       "      <th>36</th>\n",
       "      <td>12</td>\n",
       "      <td>25</td>\n",
       "      <td>5</td>\n",
       "      <td>LAX</td>\n",
       "      <td>CLT</td>\n",
       "      <td>50</td>\n",
       "      <td>-26.0</td>\n",
       "      <td>0</td>\n",
       "      <td>0</td>\n",
       "    </tr>\n",
       "    <tr>\n",
       "      <th>37</th>\n",
       "      <td>12</td>\n",
       "      <td>25</td>\n",
       "      <td>5</td>\n",
       "      <td>SLC</td>\n",
       "      <td>ATL</td>\n",
       "      <td>55</td>\n",
       "      <td>84.0</td>\n",
       "      <td>0</td>\n",
       "      <td>1</td>\n",
       "    </tr>\n",
       "    <tr>\n",
       "      <th>38</th>\n",
       "      <td>12</td>\n",
       "      <td>25</td>\n",
       "      <td>5</td>\n",
       "      <td>LAS</td>\n",
       "      <td>IAH</td>\n",
       "      <td>55</td>\n",
       "      <td>-6.0</td>\n",
       "      <td>0</td>\n",
       "      <td>0</td>\n",
       "    </tr>\n",
       "    <tr>\n",
       "      <th>39</th>\n",
       "      <td>12</td>\n",
       "      <td>25</td>\n",
       "      <td>5</td>\n",
       "      <td>LAX</td>\n",
       "      <td>ORD</td>\n",
       "      <td>55</td>\n",
       "      <td>-43.0</td>\n",
       "      <td>0</td>\n",
       "      <td>0</td>\n",
       "    </tr>\n",
       "    <tr>\n",
       "      <th>40</th>\n",
       "      <td>12</td>\n",
       "      <td>25</td>\n",
       "      <td>5</td>\n",
       "      <td>LAX</td>\n",
       "      <td>DFW</td>\n",
       "      <td>55</td>\n",
       "      <td>-10.0</td>\n",
       "      <td>0</td>\n",
       "      <td>0</td>\n",
       "    </tr>\n",
       "    <tr>\n",
       "      <th>41</th>\n",
       "      <td>12</td>\n",
       "      <td>25</td>\n",
       "      <td>5</td>\n",
       "      <td>LAS</td>\n",
       "      <td>CLT</td>\n",
       "      <td>55</td>\n",
       "      <td>-4.0</td>\n",
       "      <td>0</td>\n",
       "      <td>0</td>\n",
       "    </tr>\n",
       "    <tr>\n",
       "      <th>42</th>\n",
       "      <td>12</td>\n",
       "      <td>25</td>\n",
       "      <td>5</td>\n",
       "      <td>ANC</td>\n",
       "      <td>PDX</td>\n",
       "      <td>55</td>\n",
       "      <td>-40.0</td>\n",
       "      <td>0</td>\n",
       "      <td>0</td>\n",
       "    </tr>\n",
       "  </tbody>\n",
       "</table>\n",
       "</div>"
      ],
      "text/plain": [
       "    MONTH  DAY  DAY_OF_WEEK ORIGIN_AIRPORT DESTINATION_AIRPORT  \\\n",
       "32     12   25            5            ANC                 SEA   \n",
       "33     12   25            5            LAS                 MSP   \n",
       "34     12   25            5            DEN                 PHL   \n",
       "35     12   25            5            PDX                 MSP   \n",
       "36     12   25            5            LAX                 CLT   \n",
       "37     12   25            5            SLC                 ATL   \n",
       "38     12   25            5            LAS                 IAH   \n",
       "39     12   25            5            LAX                 ORD   \n",
       "40     12   25            5            LAX                 DFW   \n",
       "41     12   25            5            LAS                 CLT   \n",
       "42     12   25            5            ANC                 PDX   \n",
       "\n",
       "    SCHEDULED_DEPARTURE  ARRIVAL_DELAY  CANCELLED EFFECTIVE_DELAY  \n",
       "32                   45          -38.0          0               0  \n",
       "33                   46          -16.0          0               0  \n",
       "34                   49          -28.0          0               0  \n",
       "35                   50          -18.0          0               0  \n",
       "36                   50          -26.0          0               0  \n",
       "37                   55           84.0          0               1  \n",
       "38                   55           -6.0          0               0  \n",
       "39                   55          -43.0          0               0  \n",
       "40                   55          -10.0          0               0  \n",
       "41                   55           -4.0          0               0  \n",
       "42                   55          -40.0          0               0  "
      ]
     },
     "execution_count": 8,
     "metadata": {},
     "output_type": "execute_result"
    }
   ],
   "source": [
    "#Check modifications have been assigned correctly\n",
    "\n",
    "df.iloc [32:43]"
   ]
  },
  {
   "cell_type": "code",
   "execution_count": 9,
   "metadata": {},
   "outputs": [],
   "source": [
    "#Drop further now redundant columns\n",
    "\n",
    "df = df.drop(columns= [\"ARRIVAL_DELAY\",\"MONTH\",\"DAY\",\"DAY_OF_WEEK\",\"CANCELLED\"])"
   ]
  },
  {
   "cell_type": "code",
   "execution_count": 10,
   "metadata": {},
   "outputs": [],
   "source": [
    "#Reduce dataframe to have only the 10 busiest airports in the United States as destination and origin airport\n",
    "\n",
    "df2 = df[(df.DESTINATION_AIRPORT == \"ATL\")|(df.DESTINATION_AIRPORT == \"ORD\")|(df.DESTINATION_AIRPORT == \"LAX\")|(df.DESTINATION_AIRPORT == \"DFW\")|(df.DESTINATION_AIRPORT == \"JFK\")|(df.DESTINATION_AIRPORT == \"DEN\")|(df.DESTINATION_AIRPORT == \"SFO\")|(df.DESTINATION_AIRPORT == \"LAS\")|(df.DESTINATION_AIRPORT == \"PHX\")|(df.DESTINATION_AIRPORT == \"IAH\")]\n",
    "df3 = df2[(df2.ORIGIN_AIRPORT == \"ATL\")|(df2.ORIGIN_AIRPORT == \"ORD\")|(df2.ORIGIN_AIRPORT == \"LAX\")|(df2.ORIGIN_AIRPORT == \"DFW\")|(df2.ORIGIN_AIRPORT == \"JFK\")|(df2.ORIGIN_AIRPORT == \"DEN\")|(df2.ORIGIN_AIRPORT == \"SFO\")|(df2.ORIGIN_AIRPORT == \"LAS\")|(df2.ORIGIN_AIRPORT == \"PHX\")|(df2.ORIGIN_AIRPORT == \"IAH\")]"
   ]
  },
  {
   "cell_type": "code",
   "execution_count": 11,
   "metadata": {},
   "outputs": [
    {
     "name": "stderr",
     "output_type": "stream",
     "text": [
      "/Users/Pascale/anaconda3/lib/python3.7/site-packages/pandas/core/indexing.py:494: SettingWithCopyWarning: \n",
      "A value is trying to be set on a copy of a slice from a DataFrame.\n",
      "Try using .loc[row_indexer,col_indexer] = value instead\n",
      "\n",
      "See the caveats in the documentation: http://pandas.pydata.org/pandas-docs/stable/user_guide/indexing.html#returning-a-view-versus-a-copy\n",
      "  self.obj[item] = s\n"
     ]
    }
   ],
   "source": [
    "#Quantization of departure hours to 24 values (hours) to improve accuracy in machine learning\n",
    "\n",
    "for index, row  in df3.iterrows():\n",
    "    df3.loc[index, \"SCHEDULED_DEPARTURE\"] = math.floor(row[\"SCHEDULED_DEPARTURE\"]/100)\n",
    "    "
   ]
  },
  {
   "cell_type": "code",
   "execution_count": 12,
   "metadata": {},
   "outputs": [],
   "source": [
    "#Create dummy variables for the Airports\n",
    "\n",
    "df3 = pd.get_dummies (df3, columns= [\"ORIGIN_AIRPORT\", \"DESTINATION_AIRPORT\"])"
   ]
  },
  {
   "cell_type": "code",
   "execution_count": 13,
   "metadata": {},
   "outputs": [
    {
     "data": {
      "text/html": [
       "<div>\n",
       "<style scoped>\n",
       "    .dataframe tbody tr th:only-of-type {\n",
       "        vertical-align: middle;\n",
       "    }\n",
       "\n",
       "    .dataframe tbody tr th {\n",
       "        vertical-align: top;\n",
       "    }\n",
       "\n",
       "    .dataframe thead th {\n",
       "        text-align: right;\n",
       "    }\n",
       "</style>\n",
       "<table border=\"1\" class=\"dataframe\">\n",
       "  <thead>\n",
       "    <tr style=\"text-align: right;\">\n",
       "      <th></th>\n",
       "      <th>SCHEDULED_DEPARTURE</th>\n",
       "      <th>EFFECTIVE_DELAY</th>\n",
       "      <th>ORIGIN_AIRPORT_ATL</th>\n",
       "      <th>ORIGIN_AIRPORT_DEN</th>\n",
       "      <th>ORIGIN_AIRPORT_DFW</th>\n",
       "      <th>ORIGIN_AIRPORT_IAH</th>\n",
       "      <th>ORIGIN_AIRPORT_JFK</th>\n",
       "      <th>ORIGIN_AIRPORT_LAS</th>\n",
       "      <th>ORIGIN_AIRPORT_LAX</th>\n",
       "      <th>ORIGIN_AIRPORT_ORD</th>\n",
       "      <th>...</th>\n",
       "      <th>DESTINATION_AIRPORT_ATL</th>\n",
       "      <th>DESTINATION_AIRPORT_DEN</th>\n",
       "      <th>DESTINATION_AIRPORT_DFW</th>\n",
       "      <th>DESTINATION_AIRPORT_IAH</th>\n",
       "      <th>DESTINATION_AIRPORT_JFK</th>\n",
       "      <th>DESTINATION_AIRPORT_LAS</th>\n",
       "      <th>DESTINATION_AIRPORT_LAX</th>\n",
       "      <th>DESTINATION_AIRPORT_ORD</th>\n",
       "      <th>DESTINATION_AIRPORT_PHX</th>\n",
       "      <th>DESTINATION_AIRPORT_SFO</th>\n",
       "    </tr>\n",
       "  </thead>\n",
       "  <tbody>\n",
       "    <tr>\n",
       "      <th>212</th>\n",
       "      <td>5</td>\n",
       "      <td>0</td>\n",
       "      <td>0</td>\n",
       "      <td>0</td>\n",
       "      <td>1</td>\n",
       "      <td>0</td>\n",
       "      <td>0</td>\n",
       "      <td>0</td>\n",
       "      <td>0</td>\n",
       "      <td>0</td>\n",
       "      <td>...</td>\n",
       "      <td>1</td>\n",
       "      <td>0</td>\n",
       "      <td>0</td>\n",
       "      <td>0</td>\n",
       "      <td>0</td>\n",
       "      <td>0</td>\n",
       "      <td>0</td>\n",
       "      <td>0</td>\n",
       "      <td>0</td>\n",
       "      <td>0</td>\n",
       "    </tr>\n",
       "    <tr>\n",
       "      <th>216</th>\n",
       "      <td>5</td>\n",
       "      <td>0</td>\n",
       "      <td>0</td>\n",
       "      <td>0</td>\n",
       "      <td>0</td>\n",
       "      <td>0</td>\n",
       "      <td>0</td>\n",
       "      <td>0</td>\n",
       "      <td>0</td>\n",
       "      <td>1</td>\n",
       "      <td>...</td>\n",
       "      <td>1</td>\n",
       "      <td>0</td>\n",
       "      <td>0</td>\n",
       "      <td>0</td>\n",
       "      <td>0</td>\n",
       "      <td>0</td>\n",
       "      <td>0</td>\n",
       "      <td>0</td>\n",
       "      <td>0</td>\n",
       "      <td>0</td>\n",
       "    </tr>\n",
       "    <tr>\n",
       "      <th>226</th>\n",
       "      <td>5</td>\n",
       "      <td>0</td>\n",
       "      <td>0</td>\n",
       "      <td>1</td>\n",
       "      <td>0</td>\n",
       "      <td>0</td>\n",
       "      <td>0</td>\n",
       "      <td>0</td>\n",
       "      <td>0</td>\n",
       "      <td>0</td>\n",
       "      <td>...</td>\n",
       "      <td>0</td>\n",
       "      <td>0</td>\n",
       "      <td>0</td>\n",
       "      <td>0</td>\n",
       "      <td>0</td>\n",
       "      <td>0</td>\n",
       "      <td>1</td>\n",
       "      <td>0</td>\n",
       "      <td>0</td>\n",
       "      <td>0</td>\n",
       "    </tr>\n",
       "    <tr>\n",
       "      <th>236</th>\n",
       "      <td>5</td>\n",
       "      <td>0</td>\n",
       "      <td>0</td>\n",
       "      <td>0</td>\n",
       "      <td>0</td>\n",
       "      <td>1</td>\n",
       "      <td>0</td>\n",
       "      <td>0</td>\n",
       "      <td>0</td>\n",
       "      <td>0</td>\n",
       "      <td>...</td>\n",
       "      <td>0</td>\n",
       "      <td>0</td>\n",
       "      <td>0</td>\n",
       "      <td>0</td>\n",
       "      <td>0</td>\n",
       "      <td>0</td>\n",
       "      <td>0</td>\n",
       "      <td>0</td>\n",
       "      <td>1</td>\n",
       "      <td>0</td>\n",
       "    </tr>\n",
       "    <tr>\n",
       "      <th>276</th>\n",
       "      <td>5</td>\n",
       "      <td>0</td>\n",
       "      <td>0</td>\n",
       "      <td>0</td>\n",
       "      <td>0</td>\n",
       "      <td>0</td>\n",
       "      <td>0</td>\n",
       "      <td>1</td>\n",
       "      <td>0</td>\n",
       "      <td>0</td>\n",
       "      <td>...</td>\n",
       "      <td>0</td>\n",
       "      <td>1</td>\n",
       "      <td>0</td>\n",
       "      <td>0</td>\n",
       "      <td>0</td>\n",
       "      <td>0</td>\n",
       "      <td>0</td>\n",
       "      <td>0</td>\n",
       "      <td>0</td>\n",
       "      <td>0</td>\n",
       "    </tr>\n",
       "    <tr>\n",
       "      <th>294</th>\n",
       "      <td>6</td>\n",
       "      <td>0</td>\n",
       "      <td>0</td>\n",
       "      <td>0</td>\n",
       "      <td>0</td>\n",
       "      <td>0</td>\n",
       "      <td>0</td>\n",
       "      <td>1</td>\n",
       "      <td>0</td>\n",
       "      <td>0</td>\n",
       "      <td>...</td>\n",
       "      <td>1</td>\n",
       "      <td>0</td>\n",
       "      <td>0</td>\n",
       "      <td>0</td>\n",
       "      <td>0</td>\n",
       "      <td>0</td>\n",
       "      <td>0</td>\n",
       "      <td>0</td>\n",
       "      <td>0</td>\n",
       "      <td>0</td>\n",
       "    </tr>\n",
       "    <tr>\n",
       "      <th>322</th>\n",
       "      <td>6</td>\n",
       "      <td>0</td>\n",
       "      <td>0</td>\n",
       "      <td>0</td>\n",
       "      <td>0</td>\n",
       "      <td>0</td>\n",
       "      <td>0</td>\n",
       "      <td>0</td>\n",
       "      <td>0</td>\n",
       "      <td>0</td>\n",
       "      <td>...</td>\n",
       "      <td>0</td>\n",
       "      <td>1</td>\n",
       "      <td>0</td>\n",
       "      <td>0</td>\n",
       "      <td>0</td>\n",
       "      <td>0</td>\n",
       "      <td>0</td>\n",
       "      <td>0</td>\n",
       "      <td>0</td>\n",
       "      <td>0</td>\n",
       "    </tr>\n",
       "    <tr>\n",
       "      <th>326</th>\n",
       "      <td>6</td>\n",
       "      <td>1</td>\n",
       "      <td>0</td>\n",
       "      <td>0</td>\n",
       "      <td>0</td>\n",
       "      <td>0</td>\n",
       "      <td>1</td>\n",
       "      <td>0</td>\n",
       "      <td>0</td>\n",
       "      <td>0</td>\n",
       "      <td>...</td>\n",
       "      <td>1</td>\n",
       "      <td>0</td>\n",
       "      <td>0</td>\n",
       "      <td>0</td>\n",
       "      <td>0</td>\n",
       "      <td>0</td>\n",
       "      <td>0</td>\n",
       "      <td>0</td>\n",
       "      <td>0</td>\n",
       "      <td>0</td>\n",
       "    </tr>\n",
       "    <tr>\n",
       "      <th>331</th>\n",
       "      <td>6</td>\n",
       "      <td>0</td>\n",
       "      <td>0</td>\n",
       "      <td>0</td>\n",
       "      <td>0</td>\n",
       "      <td>0</td>\n",
       "      <td>0</td>\n",
       "      <td>0</td>\n",
       "      <td>0</td>\n",
       "      <td>0</td>\n",
       "      <td>...</td>\n",
       "      <td>1</td>\n",
       "      <td>0</td>\n",
       "      <td>0</td>\n",
       "      <td>0</td>\n",
       "      <td>0</td>\n",
       "      <td>0</td>\n",
       "      <td>0</td>\n",
       "      <td>0</td>\n",
       "      <td>0</td>\n",
       "      <td>0</td>\n",
       "    </tr>\n",
       "    <tr>\n",
       "      <th>353</th>\n",
       "      <td>6</td>\n",
       "      <td>1</td>\n",
       "      <td>0</td>\n",
       "      <td>0</td>\n",
       "      <td>0</td>\n",
       "      <td>0</td>\n",
       "      <td>0</td>\n",
       "      <td>0</td>\n",
       "      <td>0</td>\n",
       "      <td>1</td>\n",
       "      <td>...</td>\n",
       "      <td>0</td>\n",
       "      <td>0</td>\n",
       "      <td>0</td>\n",
       "      <td>0</td>\n",
       "      <td>0</td>\n",
       "      <td>0</td>\n",
       "      <td>1</td>\n",
       "      <td>0</td>\n",
       "      <td>0</td>\n",
       "      <td>0</td>\n",
       "    </tr>\n",
       "    <tr>\n",
       "      <th>375</th>\n",
       "      <td>6</td>\n",
       "      <td>1</td>\n",
       "      <td>0</td>\n",
       "      <td>0</td>\n",
       "      <td>0</td>\n",
       "      <td>0</td>\n",
       "      <td>0</td>\n",
       "      <td>1</td>\n",
       "      <td>0</td>\n",
       "      <td>0</td>\n",
       "      <td>...</td>\n",
       "      <td>0</td>\n",
       "      <td>0</td>\n",
       "      <td>0</td>\n",
       "      <td>0</td>\n",
       "      <td>0</td>\n",
       "      <td>0</td>\n",
       "      <td>1</td>\n",
       "      <td>0</td>\n",
       "      <td>0</td>\n",
       "      <td>0</td>\n",
       "    </tr>\n",
       "  </tbody>\n",
       "</table>\n",
       "<p>11 rows × 22 columns</p>\n",
       "</div>"
      ],
      "text/plain": [
       "     SCHEDULED_DEPARTURE EFFECTIVE_DELAY  ORIGIN_AIRPORT_ATL  \\\n",
       "212                    5               0                   0   \n",
       "216                    5               0                   0   \n",
       "226                    5               0                   0   \n",
       "236                    5               0                   0   \n",
       "276                    5               0                   0   \n",
       "294                    6               0                   0   \n",
       "322                    6               0                   0   \n",
       "326                    6               1                   0   \n",
       "331                    6               0                   0   \n",
       "353                    6               1                   0   \n",
       "375                    6               1                   0   \n",
       "\n",
       "     ORIGIN_AIRPORT_DEN  ORIGIN_AIRPORT_DFW  ORIGIN_AIRPORT_IAH  \\\n",
       "212                   0                   1                   0   \n",
       "216                   0                   0                   0   \n",
       "226                   1                   0                   0   \n",
       "236                   0                   0                   1   \n",
       "276                   0                   0                   0   \n",
       "294                   0                   0                   0   \n",
       "322                   0                   0                   0   \n",
       "326                   0                   0                   0   \n",
       "331                   0                   0                   0   \n",
       "353                   0                   0                   0   \n",
       "375                   0                   0                   0   \n",
       "\n",
       "     ORIGIN_AIRPORT_JFK  ORIGIN_AIRPORT_LAS  ORIGIN_AIRPORT_LAX  \\\n",
       "212                   0                   0                   0   \n",
       "216                   0                   0                   0   \n",
       "226                   0                   0                   0   \n",
       "236                   0                   0                   0   \n",
       "276                   0                   1                   0   \n",
       "294                   0                   1                   0   \n",
       "322                   0                   0                   0   \n",
       "326                   1                   0                   0   \n",
       "331                   0                   0                   0   \n",
       "353                   0                   0                   0   \n",
       "375                   0                   1                   0   \n",
       "\n",
       "     ORIGIN_AIRPORT_ORD  ...  DESTINATION_AIRPORT_ATL  \\\n",
       "212                   0  ...                        1   \n",
       "216                   1  ...                        1   \n",
       "226                   0  ...                        0   \n",
       "236                   0  ...                        0   \n",
       "276                   0  ...                        0   \n",
       "294                   0  ...                        1   \n",
       "322                   0  ...                        0   \n",
       "326                   0  ...                        1   \n",
       "331                   0  ...                        1   \n",
       "353                   1  ...                        0   \n",
       "375                   0  ...                        0   \n",
       "\n",
       "     DESTINATION_AIRPORT_DEN  DESTINATION_AIRPORT_DFW  \\\n",
       "212                        0                        0   \n",
       "216                        0                        0   \n",
       "226                        0                        0   \n",
       "236                        0                        0   \n",
       "276                        1                        0   \n",
       "294                        0                        0   \n",
       "322                        1                        0   \n",
       "326                        0                        0   \n",
       "331                        0                        0   \n",
       "353                        0                        0   \n",
       "375                        0                        0   \n",
       "\n",
       "     DESTINATION_AIRPORT_IAH  DESTINATION_AIRPORT_JFK  \\\n",
       "212                        0                        0   \n",
       "216                        0                        0   \n",
       "226                        0                        0   \n",
       "236                        0                        0   \n",
       "276                        0                        0   \n",
       "294                        0                        0   \n",
       "322                        0                        0   \n",
       "326                        0                        0   \n",
       "331                        0                        0   \n",
       "353                        0                        0   \n",
       "375                        0                        0   \n",
       "\n",
       "     DESTINATION_AIRPORT_LAS  DESTINATION_AIRPORT_LAX  \\\n",
       "212                        0                        0   \n",
       "216                        0                        0   \n",
       "226                        0                        1   \n",
       "236                        0                        0   \n",
       "276                        0                        0   \n",
       "294                        0                        0   \n",
       "322                        0                        0   \n",
       "326                        0                        0   \n",
       "331                        0                        0   \n",
       "353                        0                        1   \n",
       "375                        0                        1   \n",
       "\n",
       "     DESTINATION_AIRPORT_ORD  DESTINATION_AIRPORT_PHX  DESTINATION_AIRPORT_SFO  \n",
       "212                        0                        0                        0  \n",
       "216                        0                        0                        0  \n",
       "226                        0                        0                        0  \n",
       "236                        0                        1                        0  \n",
       "276                        0                        0                        0  \n",
       "294                        0                        0                        0  \n",
       "322                        0                        0                        0  \n",
       "326                        0                        0                        0  \n",
       "331                        0                        0                        0  \n",
       "353                        0                        0                        0  \n",
       "375                        0                        0                        0  \n",
       "\n",
       "[11 rows x 22 columns]"
      ]
     },
     "execution_count": 13,
     "metadata": {},
     "output_type": "execute_result"
    }
   ],
   "source": [
    "#Check modifications have been assigned correctly\n",
    "\n",
    "df3.iloc [32:43]"
   ]
  },
  {
   "cell_type": "markdown",
   "metadata": {},
   "source": [
    "## Build machine learning model"
   ]
  },
  {
   "cell_type": "code",
   "execution_count": 14,
   "metadata": {},
   "outputs": [],
   "source": [
    "#train-test split of dataframe in 70%/30% ratio\n",
    "\n",
    "from sklearn.model_selection import train_test_split\n",
    "train_x, test_x, train_y, test_y = train_test_split(df3.drop('EFFECTIVE_DELAY', axis=1), df3['EFFECTIVE_DELAY'], test_size=0.3, random_state = 10)"
   ]
  },
  {
   "cell_type": "code",
   "execution_count": 15,
   "metadata": {},
   "outputs": [
    {
     "data": {
      "text/plain": [
       "(830, 21)"
      ]
     },
     "execution_count": 15,
     "metadata": {},
     "output_type": "execute_result"
    }
   ],
   "source": [
    "#DataFrame containing the feature columns used for training\n",
    "\n",
    "train_x.shape"
   ]
  },
  {
   "cell_type": "code",
   "execution_count": 16,
   "metadata": {},
   "outputs": [
    {
     "data": {
      "text/plain": [
       "(357, 21)"
      ]
     },
     "execution_count": 16,
     "metadata": {},
     "output_type": "execute_result"
    }
   ],
   "source": [
    "#DataFrame containing the feature columns used for testing\n",
    "\n",
    "test_x.shape"
   ]
  },
  {
   "cell_type": "code",
   "execution_count": 17,
   "metadata": {},
   "outputs": [
    {
     "name": "stderr",
     "output_type": "stream",
     "text": [
      "/Users/Pascale/anaconda3/lib/python3.7/site-packages/sklearn/ensemble/forest.py:245: FutureWarning: The default value of n_estimators will change from 10 in version 0.20 to 100 in 0.22.\n",
      "  \"10 in version 0.20 to 100 in 0.22.\", FutureWarning)\n"
     ]
    },
    {
     "data": {
      "text/plain": [
       "RandomForestClassifier(bootstrap=True, class_weight=None, criterion='gini',\n",
       "                       max_depth=None, max_features='auto', max_leaf_nodes=None,\n",
       "                       min_impurity_decrease=0.0, min_impurity_split=None,\n",
       "                       min_samples_leaf=1, min_samples_split=2,\n",
       "                       min_weight_fraction_leaf=0.0, n_estimators=10,\n",
       "                       n_jobs=None, oob_score=False, random_state=10, verbose=0,\n",
       "                       warm_start=False)"
      ]
     },
     "execution_count": 17,
     "metadata": {},
     "output_type": "execute_result"
    }
   ],
   "source": [
    "#Create a RandomForestClassifier object and train it\n",
    "\n",
    "from sklearn.ensemble import RandomForestClassifier\n",
    "\n",
    "model = RandomForestClassifier(random_state=10)\n",
    "model.fit(train_x, train_y)"
   ]
  },
  {
   "cell_type": "markdown",
   "metadata": {},
   "source": [
    "## Accuracy Measurements"
   ]
  },
  {
   "cell_type": "code",
   "execution_count": 18,
   "metadata": {},
   "outputs": [
    {
     "data": {
      "text/plain": [
       "0.6722689075630253"
      ]
     },
     "execution_count": 18,
     "metadata": {},
     "output_type": "execute_result"
    }
   ],
   "source": [
    "#Measure mean accuracy of the model\n",
    "\n",
    "predicted = model.predict(test_x)\n",
    "model.score(test_x,test_y)"
   ]
  },
  {
   "cell_type": "code",
   "execution_count": 19,
   "metadata": {},
   "outputs": [
    {
     "data": {
      "text/plain": [
       "0.6213269800014439"
      ]
     },
     "execution_count": 19,
     "metadata": {},
     "output_type": "execute_result"
    }
   ],
   "source": [
    "#Measure accuracy of the classification model with ROC AUC score\n",
    "\n",
    "from sklearn.metrics import roc_auc_score\n",
    "probabilities = model.predict_proba(test_x)\n",
    "roc_auc_score(test_y, probabilities [:,1])"
   ]
  },
  {
   "cell_type": "code",
   "execution_count": 20,
   "metadata": {},
   "outputs": [
    {
     "data": {
      "text/plain": [
       "array([[198,  45],\n",
       "       [ 72,  42]])"
      ]
     },
     "execution_count": 20,
     "metadata": {},
     "output_type": "execute_result"
    }
   ],
   "source": [
    "#Generate an error matrix to measure the amount of correctly or incorrectly classified answers\n",
    "\n",
    "from sklearn.metrics import confusion_matrix\n",
    "confusion_matrix(test_y, predicted)"
   ]
  },
  {
   "cell_type": "code",
   "execution_count": 21,
   "metadata": {},
   "outputs": [
    {
     "data": {
      "text/plain": [
       "0.900990099009901"
      ]
     },
     "execution_count": 21,
     "metadata": {},
     "output_type": "execute_result"
    }
   ],
   "source": [
    "#Measure the precision of the model\n",
    "\n",
    "from sklearn.metrics import precision_score\n",
    "train_predictions = model.predict(train_x)\n",
    "precision_score(train_y, train_predictions, average=\"binary\", pos_label=\"1\")"
   ]
  },
  {
   "cell_type": "code",
   "execution_count": 22,
   "metadata": {},
   "outputs": [
    {
     "data": {
      "text/plain": [
       "0.7878787878787878"
      ]
     },
     "execution_count": 22,
     "metadata": {},
     "output_type": "execute_result"
    }
   ],
   "source": [
    "#Recall score to measure ability of the classifier to find all the positive samples\n",
    "\n",
    "from sklearn.metrics import recall_score\n",
    "recall_score(train_y, train_predictions, average=\"binary\", pos_label=\"1\")"
   ]
  },
  {
   "cell_type": "markdown",
   "metadata": {},
   "source": [
    "## Visualize model output"
   ]
  },
  {
   "cell_type": "code",
   "execution_count": 23,
   "metadata": {},
   "outputs": [
    {
     "data": {
      "text/plain": [
       "Text(0, 0.5, 'True Positive Rate')"
      ]
     },
     "execution_count": 23,
     "metadata": {},
     "output_type": "execute_result"
    },
    {
     "data": {
      "image/png": "[encoded data removed]",
      "text/plain": [
       "<Figure size 432x288 with 1 Axes>"
      ]
     },
     "metadata": {
      "needs_background": "light"
     },
     "output_type": "display_data"
    }
   ],
   "source": [
    "#Render roc curve to visualize accuracy of the classification model\n",
    "\n",
    "from sklearn.metrics import roc_curve\n",
    "\n",
    "fpr, tpr, _ = roc_curve(test_y, probabilities[:, 1], pos_label='1')\n",
    "plt.plot(fpr, tpr)\n",
    "plt.plot([0, 1], [0, 1], color='black', lw=1, linestyle='--')\n",
    "plt.xlabel('False Positive Rate')\n",
    "plt.ylabel('True Positive Rate')"
   ]
  },
  {
   "cell_type": "markdown",
   "metadata": {},
   "source": [
    "## Predict probability of on-time-arrival "
   ]
  },
  {
   "cell_type": "code",
   "execution_count": 24,
   "metadata": {},
   "outputs": [],
   "source": [
    "#Function to predict the likelihood of a flight arriving on time \n",
    "\n",
    "def predict_delay(scheduled_departure, origin_airport, destination_airport):\n",
    "    from datetime import datetime\n",
    "\n",
    "    try:\n",
    "        scheduled_departure_parsed = datetime.strptime(scheduled_departure, \"%H:%M\")\n",
    "    except ValueError as e:\n",
    "        return 'Error parsing date/time - {}'.format(e)\n",
    "\n",
    "    hour = scheduled_departure_parsed.hour\n",
    "\n",
    "    input = [{'SCHEDULED_DEPARTURE': hour,\n",
    "              'ORIGIN_AIRPORT_ATL': 1 if origin_airport == 'ATL' else 0,\n",
    "              'ORIGIN_AIRPORT_ORD': 1 if origin_airport == 'ORD' else 0,\n",
    "              'ORIGIN_AIRPORT_LAX': 1 if origin_airport == 'LAX' else 0,\n",
    "              'ORIGIN_AIRPORT_DFW': 1 if origin_airport == 'DFW' else 0,\n",
    "              'ORIGIN_AIRPORT_JFK': 1 if origin_airport == 'JFK' else 0,\n",
    "              'ORIGIN_AIRPORT_DEN': 1 if origin_airport == 'DEN' else 0,\n",
    "              'ORIGIN_AIRPORT_SFO': 1 if origin_airport == 'SFO' else 0,\n",
    "              'ORIGIN_AIRPORT_LAS': 1 if origin_airport == 'LAS' else 0,\n",
    "              'ORIGIN_AIRPORT_PHX': 1 if origin_airport == 'PHX' else 0,\n",
    "              'ORIGIN_AIRPORT_IAH': 1 if origin_airport == 'IAH' else 0,\n",
    "              'DESTINATION_AIRPORT_ATL': 1 if destination_airport == 'ATL' else 0,\n",
    "              'DESTINATION_AIRPORT__ORD': 1 if destination_airport == 'ORD' else 0,\n",
    "              'DESTINATION_AIRPORT__LAX': 1 if destination_airport == 'LAX' else 0,\n",
    "              'DESTINATION_AIRPORT__DFW': 1 if destination_airport == 'DFW' else 0,\n",
    "              'DESTINATION_AIRPORT__JFK': 1 if destination_airport == 'JFK' else 0,\n",
    "              'DESTINATION_AIRPORT__DEN': 1 if destination_airport == 'DEN' else 0,\n",
    "              'DESTINATION_AIRPORT__SFO': 1 if destination_airport == 'SFO' else 0,\n",
    "              'DESTINATION_AIRPORT__LAS': 1 if destination_airport == 'LAS' else 0,\n",
    "              'DESTINATION_AIRPORT__PHX': 1 if destination_airport == 'PHX' else 0,\n",
    "              'DESTINATION_AIRPORT__IAH': 1 if destination_airport == 'IAH' else 0 }]\n",
    "\n",
    "    return model.predict_proba(pd.DataFrame(input))[0][0]"
   ]
  },
  {
   "cell_type": "markdown",
   "metadata": {},
   "source": [
    "## Conversation bot for user input "
   ]
  },
  {
   "cell_type": "code",
   "execution_count": 25,
   "metadata": {},
   "outputs": [],
   "source": [
    "# Lists for conversation bot\n",
    "\n",
    "greetings = [\"hello\", \"hi\", \"hey\", \"greetings\", \"ciao\", \"salut\", \"hallo\"]\n",
    "greeting_responses = [\"\\nHello,\", \"\\nHi,\", \"\\nHey,\", \"\\nGreetings,\", \"\\nNice to see you here,\"]\n",
    "airport_list = [\"ATL\", \"ORD\", \"LAX\", \"DFW\", \"JFK\", \"DEN\", \"SFO\", \"LAS\", \"PHX\", \"IAH\"]\n",
    "time_list = ['0:00', '1:00', '2:00', '3:00', '04:00', '05:00', '06:00', '07:00', '08:00', '09:00', '10:00', '11:00', '12:00', '13:00', '14:00', '15:00', '16:00', '17:00', '18:00', '19:00', '20:00', '21:00', '22:00', '23:00']\n",
    "AIRPORT_QUESTIONS = [\"do you want to see the available airports?\", \"do you want to take a look at the available airports?\", \"do you want to see our list of available airports?\"]"
   ]
  },
  {
   "cell_type": "code",
   "execution_count": 26,
   "metadata": {},
   "outputs": [],
   "source": [
    "#Function to return input\n",
    "\n",
    "def ask_input(txt):\n",
    "  return input(txt).upper().split()"
   ]
  },
  {
   "cell_type": "code",
   "execution_count": 27,
   "metadata": {},
   "outputs": [],
   "source": [
    "#Function for Yes or No \n",
    "\n",
    "def yes_or_no():\n",
    "  answer_yes_or_no = input(\"Please answer by yes or no: \")\n",
    "  while True:\n",
    "    if answer_yes_or_no.lower() == \"yes\":\n",
    "      return True\n",
    "      break\n",
    "    elif answer_yes_or_no.lower() == \"no\":\n",
    "      return False\n",
    "      break\n",
    "    else:\n",
    "      answer_yes_or_no = input(\"Oops, something went wrong here. Please only answer by yes or no! You may try again now: \")"
   ]
  },
  {
   "cell_type": "code",
   "execution_count": 28,
   "metadata": {},
   "outputs": [],
   "source": [
    "#Function for bot greeting and call airport_possibilities \n",
    "\n",
    "def random_greeting(txt):\n",
    "    i = 0\n",
    "    sentence = ask_input(txt)\n",
    "    for s in range(len(sentence)):\n",
    "        if sentence[s].lower() in greetings:\n",
    "            greeting_answer = random.choice(greeting_responses)\n",
    "            greeting_answer += \" welcome to our flight delay calculator. Thanks to us you'll be home on time for Christmas! \"\n",
    "            print(greeting_answer)\n",
    "            airport_possibilities()\n",
    "            i = 1\n",
    "            break\n",
    "    if i == 0:\n",
    "        print(\"\\nOops, our bot doesn't work unless greeted\")\n",
    "        random_greeting(\"To find out which plane to take to be home on time for Christmas, please try again with a greeting: \")"
   ]
  },
  {
   "cell_type": "code",
   "execution_count": 29,
   "metadata": {},
   "outputs": [],
   "source": [
    "#Function to display airport_list and call airport_departure\n",
    "\n",
    "def airport_possibilities():\n",
    "  print(\"\\nBefore we can calculate your delay, \" + random.choice(AIRPORT_QUESTIONS))\n",
    "  if yes_or_no():\n",
    "    print(\"\\nThe available airports are: \", \", \".join(airport_list))\n",
    "    airport_departure(\"Please enter the airport you are departing from : \")\n",
    "  else:\n",
    "    print(\"\\nOkay\")\n",
    "    airport_departure(\"Please enter the airport you are departing from : \")"
   ]
  },
  {
   "cell_type": "code",
   "execution_count": 30,
   "metadata": {},
   "outputs": [],
   "source": [
    "#Function to check whether airport_departure is in list, store input as global variable and call airport_arrival  \n",
    "\n",
    "def airport_departure(chosen_airport_departure):\n",
    "    global str_chosen_airport_departure\n",
    "    i = 0\n",
    "    chosen_airport_departure = ask_input(chosen_airport_departure)\n",
    "    for word in chosen_airport_departure:\n",
    "        if word in airport_list:\n",
    "            airport_arrival(\"\\nPlease enter the airport you are going to :\")\n",
    "            i = 1\n",
    "            str_chosen_airport_departure = ' '.join([str(elem) for elem in chosen_airport_departure])\n",
    "            break\n",
    "    if i == 0:\n",
    "        print(\"\\nSorry, this airport is not available for our machine learning. Make sure you write the name correctly!\")\n",
    "        airport_departure(\"Try to enter the right name this time: \")"
   ]
  },
  {
   "cell_type": "code",
   "execution_count": 31,
   "metadata": {},
   "outputs": [],
   "source": [
    "#Function to check whether airport_arrival is in list and store input as global variable\n",
    "\n",
    "def airport_arrival(chosen_airport_arrival):\n",
    "    global str_chosen_airport_arrival\n",
    "    i = 0\n",
    "    chosen_airport_arrival = ask_input(chosen_airport_arrival)\n",
    "    for word in chosen_airport_arrival:\n",
    "        if word in airport_list:           \n",
    "            i = 1\n",
    "            str_chosen_airport_arrival = ' '.join([str(elem) for elem in chosen_airport_arrival])\n",
    "            break\n",
    "    if i == 0:\n",
    "        print(\"\\nSorry, this airport is not available for our machine learning. Make sure you write the name correctly!\")\n",
    "        airport_arrival(\"Try to enter the right name this time: \")"
   ]
  },
  {
   "cell_type": "markdown",
   "metadata": {},
   "source": [
    "## Plot on-time-arrival for user input"
   ]
  },
  {
   "cell_type": "code",
   "execution_count": 35,
   "metadata": {},
   "outputs": [
    {
     "name": "stdout",
     "output_type": "stream",
     "text": [
      "Welcome to our chatbot. Please greet him: hi\n",
      "\n",
      "Greetings, welcome to our flight delay calculator. Thanks to us you'll be home on time for Christmas! \n",
      "\n",
      "Before we can calculate your delay, do you want to see our list of available airports?\n",
      "Please answer by yes or no: no\n",
      "\n",
      "Okay\n",
      "Please enter the airport you are departing from : lax\n",
      "\n",
      "Please enter the airport you are going to :sfo\n",
      "Please state your departure time here: (Format: Hour:00, e.g. 09:00) 09:00\n",
      "Your predicted probability of on time arrival is:  40.0 %\n",
      "\n",
      "Great, you have chosen to go from LAX to SFO. In case you would like to take another flight, we predicted the probability of on-time-arrival for your trip for every hour. Choose wisely and have a safe trip. Merry Christmas!\n"
     ]
    },
    {
     "data": {
      "text/plain": [
       "(0.0, 1.0)"
      ]
     },
     "execution_count": 35,
     "metadata": {},
     "output_type": "execute_result"
    },
    {
     "data": {
      "image/png": "[encoded data removed]",
      "text/plain": [
       "<Figure size 1296x360 with 1 Axes>"
      ]
     },
     "metadata": {
      "needs_background": "light"
     },
     "output_type": "display_data"
    }
   ],
   "source": [
    "#Start conversation bot and plot predictions\n",
    "\n",
    "random_greeting(\"Welcome to our chatbot. Please greet him: \")\n",
    "\n",
    "while True:\n",
    "    try:\n",
    "        input_time = (input(\"Please state your departure time here: (Format: Hour:00, e.g. 09:00) \"))\n",
    "        if input_time in time_list:\n",
    "            break\n",
    "        else:\n",
    "            print(\"That is the incorrect format. Try again!\")\n",
    "    except ValueError:\n",
    "        print(\"That is the incorrect format. Try again!\")\n",
    "    \n",
    "\n",
    "predicted_time = round(100* predict_delay(input_time, str_chosen_airport_departure, str_chosen_airport_arrival),2)\n",
    "\n",
    "print (\"Your predicted probability of on time arrival is: \", predicted_time, \"%\")\n",
    "\n",
    "print(\"\\nGreat, you have chosen to go from %s to %s. In case you would like to take another flight, we predicted the probability of on-time-arrival for your trip for every hour. Choose wisely and have a safe trip. Merry Christmas!\" %(str_chosen_airport_departure.upper(), str_chosen_airport_arrival.upper()))\n",
    "labels = ('0:00', '1:00', '2:00', '3:00', '4:00', '5:00', '6:00', '7:00', '8:00', '9:00', '10:00', '11:00', '12:00', '13:00', '14:00', '15:00', '16:00', '17:00', '18:00', '19:00', '20:00', '21:00', '22:00', '23:00')\n",
    "values = (predict_delay(\"0:00\", str_chosen_airport_departure, str_chosen_airport_arrival),\n",
    "         predict_delay(\"1:00\", str_chosen_airport_departure, str_chosen_airport_arrival),\n",
    "         predict_delay(\"2:00\", str_chosen_airport_departure, str_chosen_airport_arrival),\n",
    "         predict_delay(\"3:00\", str_chosen_airport_departure, str_chosen_airport_arrival),\n",
    "         predict_delay(\"4:00\", str_chosen_airport_departure, str_chosen_airport_arrival),\n",
    "         predict_delay(\"5:00\", str_chosen_airport_departure, str_chosen_airport_arrival),\n",
    "         predict_delay(\"6:00\", str_chosen_airport_departure, str_chosen_airport_arrival),\n",
    "         predict_delay(\"7:00\", str_chosen_airport_departure, str_chosen_airport_arrival),\n",
    "         predict_delay(\"8:00\", str_chosen_airport_departure, str_chosen_airport_arrival),\n",
    "         predict_delay(\"9:00\", str_chosen_airport_departure, str_chosen_airport_arrival),\n",
    "         predict_delay(\"10:00\", str_chosen_airport_departure, str_chosen_airport_arrival),\n",
    "         predict_delay(\"11:00\", str_chosen_airport_departure, str_chosen_airport_arrival),\n",
    "         predict_delay(\"12:00\", str_chosen_airport_departure, str_chosen_airport_arrival),\n",
    "         predict_delay(\"13:00\", str_chosen_airport_departure, str_chosen_airport_arrival),\n",
    "         predict_delay(\"14:00\", str_chosen_airport_departure, str_chosen_airport_arrival),\n",
    "         predict_delay(\"15:00\", str_chosen_airport_departure, str_chosen_airport_arrival),\n",
    "         predict_delay(\"16:00\", str_chosen_airport_departure, str_chosen_airport_arrival),\n",
    "         predict_delay(\"17:00\", str_chosen_airport_departure, str_chosen_airport_arrival),\n",
    "         predict_delay(\"18:00\", str_chosen_airport_departure, str_chosen_airport_arrival),\n",
    "         predict_delay(\"19:00\", str_chosen_airport_departure, str_chosen_airport_arrival),\n",
    "         predict_delay(\"20:00\", str_chosen_airport_departure, str_chosen_airport_arrival),\n",
    "         predict_delay(\"21:00\", str_chosen_airport_departure, str_chosen_airport_arrival),\n",
    "         predict_delay(\"22:00\", str_chosen_airport_departure, str_chosen_airport_arrival),\n",
    "         predict_delay(\"22:00\", str_chosen_airport_departure, str_chosen_airport_arrival))    \n",
    "alabels = np.arange(len(labels))\n",
    "\n",
    "f, ax = plt.subplots(figsize=(18,5))\n",
    "plt.bar(alabels, values, align='center', alpha=0.5)\n",
    "plt.xticks(alabels, labels)\n",
    "plt.ylabel('Probability of On-Time Arrival')\n",
    "plt.ylim((0.0, 1.0))"
   ]
  },
  {
   "cell_type": "markdown",
   "metadata": {},
   "source": [
    "## Merry Christmas Image"
   ]
  },
  {
   "cell_type": "code",
   "execution_count": 36,
   "metadata": {},
   "outputs": [
    {
     "data": {
      "image/png": "[encoded data removed]",
      "text/plain": [
       "<Figure size 432x288 with 1 Axes>"
      ]
     },
     "metadata": {
      "needs_background": "light"
     },
     "output_type": "display_data"
    }
   ],
   "source": [
    "if predicted_time > 50:\n",
    "    img=mpimg.imread('santa.jpg')\n",
    "    imgplot = plt.imshow(img)\n",
    "    plt.show()\n",
    "else: \n",
    "    img=mpimg.imread('Latesanta.jpg')\n",
    "    imgplot = plt.imshow(img)\n",
    "    plt.show()"
   ]
  }
 ],
 "metadata": {
  "kernelspec": {
   "display_name": "Python 3",
   "language": "python",
   "name": "python3"
  },
  "language_info": {
   "codemirror_mode": {
    "name": "ipython",
    "version": 3
   },
   "file_extension": ".py",
   "mimetype": "text/x-python",
   "name": "python",
   "nbconvert_exporter": "python",
   "pygments_lexer": "ipython3",
   "version": "3.7.5"
  }
 },
 "nbformat": 4,
 "nbformat_minor": 2
}
