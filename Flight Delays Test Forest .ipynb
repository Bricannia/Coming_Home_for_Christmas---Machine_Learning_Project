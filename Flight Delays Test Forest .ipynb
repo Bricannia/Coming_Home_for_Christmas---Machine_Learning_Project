{
 "cells": [
  {
   "cell_type": "markdown",
   "metadata": {},
   "source": [
    "# Flight Delays Machine Learning Project"
   ]
  },
  {
   "cell_type": "markdown",
   "metadata": {},
   "source": [
    "## Importing libraries und data"
   ]
  },
  {
   "cell_type": "code",
   "execution_count": null,
   "metadata": {},
   "outputs": [],
   "source": [
    "import pandas as pd\n",
    "import math\n",
    "import sklearn\n",
    "%matplotlib inline\n",
    "import matplotlib.pyplot as plt\n",
    "import seaborn as sns\n",
    "\n",
    "sns.set()"
   ]
  },
  {
   "cell_type": "code",
   "execution_count": null,
   "metadata": {},
   "outputs": [],
   "source": [
    "flights = pd.read_csv('flights.csv')\n",
    "flights.head()"
   ]
  },
  {
   "cell_type": "markdown",
   "metadata": {},
   "source": [
    "## Data preparation"
   ]
  },
  {
   "cell_type": "code",
   "execution_count": null,
   "metadata": {},
   "outputs": [],
   "source": [
    "#Selection of range 32-42 to check data cleaning throughout the next steps \n",
    "\n",
    "flights.iloc [32:43]"
   ]
  },
  {
   "cell_type": "code",
   "execution_count": null,
   "metadata": {},
   "outputs": [],
   "source": [
    "#check for missing values \n",
    "\n",
    "flights.isnull().sum()"
   ]
  },
  {
   "cell_type": "code",
   "execution_count": null,
   "metadata": {},
   "outputs": [],
   "source": [
    "#Reduce DataFrame by keeping only relevant data\n",
    "\n",
    "df = flights[[\"MONTH\", \"DAY\", \"DAY_OF_WEEK\", \"ORIGIN_AIRPORT\", \"DESTINATION_AIRPORT\", \"SCHEDULED_DEPARTURE\", \"ARRIVAL_DELAY\",\"CANCELLED\"]]\n",
    "df.isnull().sum()"
   ]
  },
  {
   "cell_type": "code",
   "execution_count": null,
   "metadata": {},
   "outputs": [],
   "source": [
    "#Assing 10 to every missing value as they represent canceled flights\n",
    "#Number 10 is chosen as our limit, every flight with a delay ≥ 10 will be treated as late\n",
    "\n",
    "df = df.fillna({\"ARRIVAL_DELAY\": 10})"
   ]
  },
  {
   "cell_type": "code",
   "execution_count": null,
   "metadata": {},
   "outputs": [],
   "source": [
    "#Add new column \"effective delay\" ≥ 10 min = 1 as dummy\n",
    "\n",
    "df.loc[df.ARRIVAL_DELAY >= 10, 'EFFECTIVE_DELAY'] = '1' \n",
    "df.loc[df.ARRIVAL_DELAY < 10, 'EFFECTIVE_DELAY'] = '0' "
   ]
  },
  {
   "cell_type": "code",
   "execution_count": null,
   "metadata": {},
   "outputs": [],
   "source": [
    "#Check modifications have been assigned correctly\n",
    "\n",
    "df.iloc [32:43]"
   ]
  },
  {
   "cell_type": "code",
   "execution_count": null,
   "metadata": {},
   "outputs": [],
   "source": [
    "#Reduce Dataframe to Christmas\n",
    "\n",
    "df = df[df[\"MONTH\"]==12]\n",
    "df = df[df[\"DAY\"]==25]"
   ]
  },
  {
   "cell_type": "code",
   "execution_count": null,
   "metadata": {},
   "outputs": [],
   "source": [
    "#Drop further now redundant columns\n",
    "\n",
    "df = df.drop(columns= [\"ARRIVAL_DELAY\",\"MONTH\",\"DAY\",\"DAY_OF_WEEK\",\"CANCELLED\"])"
   ]
  },
  {
   "cell_type": "code",
   "execution_count": null,
   "metadata": {},
   "outputs": [],
   "source": [
    "#Reduce dataframe to have only 10 destination and origin airports\n",
    "\n",
    "df2 = df[(df.DESTINATION_AIRPORT == \"ATL\")|(df.DESTINATION_AIRPORT == \"ORD\")|(df.DESTINATION_AIRPORT == \"LAX\")|(df.DESTINATION_AIRPORT == \"DFW\")|(df.DESTINATION_AIRPORT == \"JFK\")|(df.DESTINATION_AIRPORT == \"DEN\")|(df.DESTINATION_AIRPORT == \"SFO\")|(df.DESTINATION_AIRPORT == \"LAS\")|(df.DESTINATION_AIRPORT == \"PHX\")|(df.DESTINATION_AIRPORT == \"IAH\")]\n",
    "df3 = df2[(df2.ORIGIN_AIRPORT == \"ATL\")|(df2.ORIGIN_AIRPORT == \"ORD\")|(df2.ORIGIN_AIRPORT == \"LAX\")|(df2.ORIGIN_AIRPORT == \"DFW\")|(df2.ORIGIN_AIRPORT == \"JFK\")|(df2.ORIGIN_AIRPORT == \"DEN\")|(df2.ORIGIN_AIRPORT == \"SFO\")|(df2.ORIGIN_AIRPORT == \"LAS\")|(df2.ORIGIN_AIRPORT == \"PHX\")|(df2.ORIGIN_AIRPORT == \"IAH\")]"
   ]
  },
  {
   "cell_type": "code",
   "execution_count": null,
   "metadata": {},
   "outputs": [],
   "source": [
    "#Quantization of departure hours to 24 values (hours) to improve accuracy in machine learning\n",
    "\n",
    "for index, row  in df3.iterrows():\n",
    "    df3.loc[index, \"SCHEDULED_DEPARTURE\"] = math.floor(row[\"SCHEDULED_DEPARTURE\"]/100)\n",
    "    "
   ]
  },
  {
   "cell_type": "code",
   "execution_count": null,
   "metadata": {},
   "outputs": [],
   "source": [
    "#Create dummy variables for the Airports\n",
    "\n",
    "df3 = pd.get_dummies (df3, columns= [\"ORIGIN_AIRPORT\", \"DESTINATION_AIRPORT\"])"
   ]
  },
  {
   "cell_type": "code",
   "execution_count": null,
   "metadata": {},
   "outputs": [],
   "source": [
    "#Check modifications have been assigned correctly\n",
    "\n",
    "df3.iloc [32:43]"
   ]
  },
  {
   "cell_type": "markdown",
   "metadata": {},
   "source": [
    "## Build machine learning model"
   ]
  },
  {
   "cell_type": "code",
   "execution_count": null,
   "metadata": {},
   "outputs": [],
   "source": [
    "#train-test split of dataframe in 70%/30% ratio\n",
    "\n",
    "from sklearn.model_selection import train_test_split\n",
    "train_x, test_x, train_y, test_y = train_test_split(df3.drop('EFFECTIVE_DELAY', axis=1), df3['EFFECTIVE_DELAY'], test_size=0.3, random_state = 10)"
   ]
  },
  {
   "cell_type": "code",
   "execution_count": null,
   "metadata": {},
   "outputs": [],
   "source": [
    "#DataFrame containing the feature columns used for training\n",
    "\n",
    "train_x.shape"
   ]
  },
  {
   "cell_type": "code",
   "execution_count": null,
   "metadata": {},
   "outputs": [],
   "source": [
    "#DataFrame containing the feature columns used for testing\n",
    "\n",
    "test_x.shape"
   ]
  },
  {
   "cell_type": "code",
   "execution_count": null,
   "metadata": {},
   "outputs": [],
   "source": [
    "#Create a RandomForestClassifier object and train it\n",
    "\n",
    "from sklearn.ensemble import RandomForestClassifier\n",
    "\n",
    "model = RandomForestClassifier(random_state=10)\n",
    "model.fit(train_x, train_y)"
   ]
  },
  {
   "cell_type": "markdown",
   "metadata": {},
   "source": [
    "## Accuracy Measurements"
   ]
  },
  {
   "cell_type": "code",
   "execution_count": null,
   "metadata": {},
   "outputs": [],
   "source": [
    "#Measure mean accuracy of the model\n",
    "\n",
    "predicted = model.predict(test_x)\n",
    "model.score(test_x,test_y)"
   ]
  },
  {
   "cell_type": "code",
   "execution_count": null,
   "metadata": {},
   "outputs": [],
   "source": [
    "#Measure accuracy of the classification model with ROC AUC score\n",
    "\n",
    "from sklearn.metrics import roc_auc_score\n",
    "probabilities = model.predict_proba(test_x)\n",
    "roc_auc_score(test_y, probabilities [:,1])"
   ]
  },
  {
   "cell_type": "code",
   "execution_count": null,
   "metadata": {},
   "outputs": [],
   "source": [
    "#Generate an error matrix to measure the amount of correctly or incorrectly classified answers\n",
    "\n",
    "from sklearn.metrics import confusion_matrix\n",
    "confusion_matrix(test_y, predicted)"
   ]
  },
  {
   "cell_type": "code",
   "execution_count": null,
   "metadata": {},
   "outputs": [],
   "source": [
    "#Measure the precision of the model\n",
    "\n",
    "from sklearn.metrics import precision_score\n",
    "train_predictions = model.predict(train_x)\n",
    "precision_score(train_y, train_predictions, average=\"binary\", pos_label=\"1\")"
   ]
  },
  {
   "cell_type": "code",
   "execution_count": null,
   "metadata": {},
   "outputs": [],
   "source": [
    "#Recall score to measure ability of the classifier to find all the positive samples\n",
    "\n",
    "from sklearn.metrics import recall_score\n",
    "recall_score(train_y, train_predictions, average=\"binary\", pos_label=\"1\")"
   ]
  },
  {
   "cell_type": "markdown",
   "metadata": {},
   "source": [
    "## Visualize model output"
   ]
  },
  {
   "cell_type": "code",
   "execution_count": null,
   "metadata": {},
   "outputs": [],
   "source": [
    "#Render roc curve to visualize accuracy of the classification model\n",
    "\n",
    "from sklearn.metrics import roc_curve\n",
    "\n",
    "fpr, tpr, _ = roc_curve(test_y, probabilities[:, 1], pos_label='1')\n",
    "plt.plot(fpr, tpr)\n",
    "plt.plot([0, 1], [0, 1], color='black', lw=1, linestyle='--')\n",
    "plt.xlabel('False Positive Rate')\n",
    "plt.ylabel('True Positive Rate')"
   ]
  },
  {
   "cell_type": "code",
   "execution_count": null,
   "metadata": {},
   "outputs": [],
   "source": [
    "#Function to predict the likelihood of a flight arriving on time \n",
    "\n",
    "def predict_delay(scheduled_departure, origin_airport, destination_airport):\n",
    "    from datetime import datetime\n",
    "\n",
    "    try:\n",
    "        scheduled_departure_parsed = datetime.strptime(scheduled_departure, \"%H:%M\")\n",
    "    except ValueError as e:\n",
    "        return 'Error parsing date/time - {}'.format(e)\n",
    "\n",
    "    hour = scheduled_departure_parsed.hour\n",
    "\n",
    "    input = [{'SCHEDULED_DEPARTURE': hour,\n",
    "              'ORIGIN_AIRPORT_ATL': 1 if origin_airport == 'ATL' else 0,\n",
    "              'ORIGIN_AIRPORT_ORD': 1 if origin_airport == 'ORD' else 0,\n",
    "              'ORIGIN_AIRPORT_LAX': 1 if origin_airport == 'LAX' else 0,\n",
    "              'ORIGIN_AIRPORT_DFW': 1 if origin_airport == 'DFW' else 0,\n",
    "              'ORIGIN_AIRPORT_JFK': 1 if origin_airport == 'JFK' else 0,\n",
    "              'ORIGIN_AIRPORT_DEN': 1 if origin_airport == 'DEN' else 0,\n",
    "              'ORIGIN_AIRPORT_SFO': 1 if origin_airport == 'SFO' else 0,\n",
    "              'ORIGIN_AIRPORT_LAS': 1 if origin_airport == 'LAS' else 0,\n",
    "              'ORIGIN_AIRPORT_PHX': 1 if origin_airport == 'PHX' else 0,\n",
    "              'ORIGIN_AIRPORT_IAH': 1 if origin_airport == 'IAH' else 0,\n",
    "              'DESTINATION_AIRPORT_ATL': 1 if destination_airport == 'ATL' else 0,\n",
    "              'DESTINATION_AIRPORT__ORD': 1 if destination_airport == 'ORD' else 0,\n",
    "              'DESTINATION_AIRPORT__LAX': 1 if destination_airport == 'LAX' else 0,\n",
    "              'DESTINATION_AIRPORT__DFW': 1 if destination_airport == 'DFW' else 0,\n",
    "              'DESTINATION_AIRPORT__JFK': 1 if destination_airport == 'JFK' else 0,\n",
    "              'DESTINATION_AIRPORT__DEN': 1 if destination_airport == 'DEN' else 0,\n",
    "              'DESTINATION_AIRPORT__SFO': 1 if destination_airport == 'SFO' else 0,\n",
    "              'DESTINATION_AIRPORT__LAS': 1 if destination_airport == 'LAS' else 0,\n",
    "              'DESTINATION_AIRPORT__PHX': 1 if destination_airport == 'PHX' else 0,\n",
    "              'DESTINATION_AIRPORT__IAH': 1 if destination_airport == 'IAH' else 0 }]\n",
    "\n",
    "    return model.predict_proba(pd.DataFrame(input))[0][0]"
   ]
  },
  {
   "cell_type": "code",
   "execution_count": null,
   "metadata": {},
   "outputs": [],
   "source": [
    "predict_delay(\"12:45\", \"LAX\", \"SFO\")"
   ]
  },
  {
   "cell_type": "code",
   "execution_count": null,
   "metadata": {},
   "outputs": [],
   "source": [
    "import random #importing random to use in randon selection of list element\n",
    "\n",
    "#GENERAL FUNCTIONS DEFINITON\n",
    "\n",
    "def ask_input(txt):#returns input in list format\n",
    "  return input(txt).split()\n",
    "\n",
    "def yesorno():#used when a yes or no answer is needed\n",
    "  a = input(\"Answer by yes or no: \")\n",
    "  while True:\n",
    "    if a.lower() == \"yes\":\n",
    "      return True\n",
    "      break\n",
    "    elif a.lower() == \"no\":\n",
    "      return False\n",
    "      break\n",
    "    else:\n",
    "      a = input(\"I didn't understand. Please only answer by yes or no! Try again: \")\n",
    "\n",
    "#BEGINNING OF THE MAIN TRUNK OF THE CONVERSATION\n",
    "\n",
    "#STAGE 1: checks if a salutation word is in the user input. If condition passed, calls pizza_recipe()\n",
    "def random_salutation(txt):\n",
    "    i = 0\n",
    "    sentence = ask_input(txt)\n",
    "    for s in range(len(sentence)):\n",
    "        if sentence[s].lower() in GREETINGS_KEYWORDS:\n",
    "            txt = random.choice(GREETINGS_RESPONSES)\n",
    "            txt+= \" welcome to our flight delay calculator! \"\n",
    "            print(txt)\n",
    "            airport_list()\n",
    "            i = 1\n",
    "            break\n",
    "    if i == 0:\n",
    "        print(\"Are you not going to greet our bot?\")\n",
    "        random_salutation(\"Try again with salutations: \")\n",
    "        \n",
    "#STAGE 2: asks the user if they want to see the the airport lists before calculatin. YES --> shows list; NO --> calls pizza_order()\n",
    "def airport_list():\n",
    "  print(\"Before we can calculate your delay, \" + random.choice(AIRPORT_QUESTIONS))\n",
    "  if yesorno():\n",
    "    print(\"The available airports are: \", \", \".join(AIRPORT_LIST))\n",
    "    airport_departure(\"Please enter the airport you are departing from : \")\n",
    "  else:\n",
    "    print(\"Okay\")\n",
    "    airport_departure(\"Please enter the airport you are departing from : \")\n",
    "    \n",
    "    \n",
    "#STAGE 4: Main part of the code, where the user orders the pizza. The function checks if the pizza is in PIZZA_LIST: YES --> calls pizza_number(); NO --> if ORDERED_PIZZA is empty, meaning no matching pizza was found in the input, it asks the user to order again\n",
    "def airport_departure(txt1):\n",
    "\ti = 0\n",
    "\tglobal strX\n",
    "\tx = ask_input(txt1)\n",
    "\tfor word in x:\n",
    "\t\tif word.upper() in AIRPORT_LIST:\n",
    "\t\t\tairport_arrival(\"Please enter the airport you are going to :\")\n",
    "\t\t\ti = 1\n",
    "\t\t\tstrX = ' '.join([str(elem) for elem in x])\n",
    "\t\t\tbreak\n",
    "\tif i == 0:\n",
    "\t\tprint(\"Sorry, this airport is not available for our machine learning. Make sure you wrote the name correctly!\")\n",
    "\t\tairport_departure(\"Try to enter the right name this time: \")\n",
    "    \n",
    "        \n",
    "def airport_arrival(txt):\n",
    "\ti = 0\n",
    "\tglobal strS\n",
    "\ts = ask_input(txt)\n",
    "\tfor word in s:\n",
    "\t\tif word.upper() in AIRPORT_LIST:           \n",
    "\t\t\ti = 1\n",
    "\t\t\tstrS = ' '.join([str(elem) for elem in s])\n",
    "\t\t\tbreak\n",
    "\tif i == 0:\n",
    "\t\tprint(\"Sorry, this airport is not available for our machine learning. Make sure you wrote the name correctly!\")\n",
    "\t\tairport_departure(\"Try to enter the right name this time: \")\n",
    "\n",
    "        \n",
    "GREETINGS_KEYWORDS=[\"hello\", \"hi\", \"hey\", \"greetings\", \"ciao\", \"salut\", \"hallo\"]\n",
    "GREETINGS_RESPONSES=[\"Hello,\", \"Hi,\", \"Hey,\", \"Greetings,\", \"Nice to see you here,\"]\n",
    "AIRPORT_LIST = [\"ATL\", \"ORD\", \"LAX\", \"DFW\", \"JFK\", \"DEN\", \"SFO\", \"LAS\", \"PHX\", \"IAH\"]\n",
    "AIRPORT_QUESTIONS = [\"do you want to see the airports?\", \"do you want to take a look the airports?\", \"do you want to see our list of airports?\"]\n",
    "\n",
    "#begins the program by calling STAGE 1 function\n",
    "random_salutation(\"Welcome to our chatbot. Please greet him: \")\n",
    "\n",
    "predict_delay(\"12:45\", strX, strS)"
   ]
  },
  {
   "cell_type": "code",
   "execution_count": null,
   "metadata": {},
   "outputs": [],
   "source": []
  },
  {
   "cell_type": "code",
   "execution_count": null,
   "metadata": {},
   "outputs": [],
   "source": []
  },
  {
   "cell_type": "code",
   "execution_count": null,
   "metadata": {},
   "outputs": [],
   "source": []
  }
 ],
 "metadata": {
  "kernelspec": {
   "display_name": "Python 3",
   "language": "python",
   "name": "python3"
  },
  "language_info": {
   "codemirror_mode": {
    "name": "ipython",
    "version": 3
   },
   "file_extension": ".py",
   "mimetype": "text/x-python",
   "name": "python",
   "nbconvert_exporter": "python",
   "pygments_lexer": "ipython3",
   "version": "3.7.4"
  }
 },
 "nbformat": 4,
 "nbformat_minor": 2
}
