{
 "cells": [
  {
   "cell_type": "markdown",
   "metadata": {},
   "source": [
    "# Flight Delays Christmas - Machine Learning Project"
   ]
  },
  {
   "cell_type": "markdown",
   "metadata": {},
   "source": [
    "## Importing libraries und data"
   ]
  },
  {
   "cell_type": "code",
   "execution_count": null,
   "metadata": {},
   "outputs": [],
   "source": [
    "import pandas as pd\n",
    "import math\n",
    "import sklearn\n",
    "import random\n",
    "import numpy as np\n",
    "%matplotlib inline\n",
    "import matplotlib.pyplot as plt\n",
    "import seaborn as sns\n",
    "\n",
    "sns.set()"
   ]
  },
  {
   "cell_type": "code",
   "execution_count": null,
   "metadata": {},
   "outputs": [],
   "source": [
    "#Import Data from CSV-file\n",
    "flights = pd.read_csv('flights.csv')\n",
    "flights.head()"
   ]
  },
  {
   "cell_type": "markdown",
   "metadata": {},
   "source": [
    "## Data preparation"
   ]
  },
  {
   "cell_type": "code",
   "execution_count": null,
   "metadata": {},
   "outputs": [],
   "source": [
    "#Selection of range 32-42 to check data cleaning throughout the next steps \n",
    "\n",
    "flights.iloc [32:43]"
   ]
  },
  {
   "cell_type": "code",
   "execution_count": null,
   "metadata": {},
   "outputs": [],
   "source": [
    "#check for missing values \n",
    "\n",
    "flights.isnull().sum()"
   ]
  },
  {
   "cell_type": "code",
   "execution_count": null,
   "metadata": {},
   "outputs": [],
   "source": [
    "#Reduce DataFrame by keeping only relevant data\n",
    "\n",
    "df = flights[[\"MONTH\", \"DAY\", \"DAY_OF_WEEK\", \"ORIGIN_AIRPORT\", \"DESTINATION_AIRPORT\", \"SCHEDULED_DEPARTURE\", \"ARRIVAL_DELAY\",\"CANCELLED\"]]\n",
    "df.isnull().sum()"
   ]
  },
  {
   "cell_type": "code",
   "execution_count": null,
   "metadata": {},
   "outputs": [],
   "source": [
    "#Assing 10 to every missing value as they represent canceled flights\n",
    "#Number 10 is chosen as our limit, every flight with a delay ≥ 10 will be treated as late\n",
    "\n",
    "df = df.fillna({\"ARRIVAL_DELAY\": 10})"
   ]
  },
  {
   "cell_type": "code",
   "execution_count": null,
   "metadata": {},
   "outputs": [],
   "source": [
    "#Add new column \"effective delay\" ≥ 10 min = 1 as dummy\n",
    "\n",
    "df.loc[df.ARRIVAL_DELAY >= 10, 'EFFECTIVE_DELAY'] = '1' \n",
    "df.loc[df.ARRIVAL_DELAY < 10, 'EFFECTIVE_DELAY'] = '0' "
   ]
  },
  {
   "cell_type": "code",
   "execution_count": null,
   "metadata": {},
   "outputs": [],
   "source": [
    "#Check modifications have been assigned correctly\n",
    "\n",
    "df.iloc [32:43]"
   ]
  },
  {
   "cell_type": "code",
   "execution_count": null,
   "metadata": {},
   "outputs": [],
   "source": [
    "#Drop further now redundant columns\n",
    "\n",
    "df = df.drop(columns= [\"ARRIVAL_DELAY\",\"MONTH\",\"DAY\",\"DAY_OF_WEEK\",\"CANCELLED\"])"
   ]
  },
  {
   "cell_type": "code",
   "execution_count": null,
   "metadata": {},
   "outputs": [],
   "source": [
    "#Reduce dataframe to have only the 10 busiest airports in the United States as destination and origin airport\n",
    "\n",
    "df2 = df[(df.DESTINATION_AIRPORT == \"ATL\")|(df.DESTINATION_AIRPORT == \"ORD\")|(df.DESTINATION_AIRPORT == \"LAX\")|(df.DESTINATION_AIRPORT == \"DFW\")|(df.DESTINATION_AIRPORT == \"JFK\")|(df.DESTINATION_AIRPORT == \"DEN\")|(df.DESTINATION_AIRPORT == \"SFO\")|(df.DESTINATION_AIRPORT == \"LAS\")|(df.DESTINATION_AIRPORT == \"PHX\")|(df.DESTINATION_AIRPORT == \"IAH\")]\n",
    "df3 = df2[(df2.ORIGIN_AIRPORT == \"ATL\")|(df2.ORIGIN_AIRPORT == \"ORD\")|(df2.ORIGIN_AIRPORT == \"LAX\")|(df2.ORIGIN_AIRPORT == \"DFW\")|(df2.ORIGIN_AIRPORT == \"JFK\")|(df2.ORIGIN_AIRPORT == \"DEN\")|(df2.ORIGIN_AIRPORT == \"SFO\")|(df2.ORIGIN_AIRPORT == \"LAS\")|(df2.ORIGIN_AIRPORT == \"PHX\")|(df2.ORIGIN_AIRPORT == \"IAH\")]"
   ]
  },
  {
   "cell_type": "code",
   "execution_count": null,
   "metadata": {},
   "outputs": [],
   "source": [
    "#Quantization of departure hours to 24 values (hours) to improve accuracy in machine learning\n",
    "\n",
    "for index, row  in df3.iterrows():\n",
    "    df3.loc[index, \"SCHEDULED_DEPARTURE\"] = math.floor(row[\"SCHEDULED_DEPARTURE\"]/100)\n",
    "    "
   ]
  },
  {
   "cell_type": "code",
   "execution_count": null,
   "metadata": {},
   "outputs": [],
   "source": [
    "#Create dummy variables for the Airports\n",
    "\n",
    "df3 = pd.get_dummies (df3, columns= [\"ORIGIN_AIRPORT\", \"DESTINATION_AIRPORT\"])"
   ]
  },
  {
   "cell_type": "code",
   "execution_count": null,
   "metadata": {},
   "outputs": [],
   "source": [
    "#Check modifications have been assigned correctly\n",
    "\n",
    "df3.iloc [32:43]"
   ]
  },
  {
   "cell_type": "markdown",
   "metadata": {},
   "source": [
    "## Build machine learning model"
   ]
  },
  {
   "cell_type": "code",
   "execution_count": null,
   "metadata": {},
   "outputs": [],
   "source": [
    "#train-test split of dataframe in 70%/30% ratio\n",
    "\n",
    "from sklearn.model_selection import train_test_split\n",
    "train_x, test_x, train_y, test_y = train_test_split(df3.drop('EFFECTIVE_DELAY', axis=1), df3['EFFECTIVE_DELAY'], test_size=0.3, random_state = 10)"
   ]
  },
  {
   "cell_type": "code",
   "execution_count": null,
   "metadata": {},
   "outputs": [],
   "source": [
    "#DataFrame containing the feature columns used for training\n",
    "\n",
    "train_x.shape"
   ]
  },
  {
   "cell_type": "code",
   "execution_count": null,
   "metadata": {},
   "outputs": [],
   "source": [
    "#DataFrame containing the feature columns used for testing\n",
    "\n",
    "test_x.shape"
   ]
  },
  {
   "cell_type": "code",
   "execution_count": null,
   "metadata": {},
   "outputs": [],
   "source": [
    "#Create a RandomForestClassifier object and train it\n",
    "\n",
    "from sklearn.ensemble import RandomForestClassifier\n",
    "\n",
    "model = RandomForestClassifier(random_state=10)\n",
    "model.fit(train_x, train_y)"
   ]
  },
  {
   "cell_type": "markdown",
   "metadata": {},
   "source": [
    "## Accuracy Measurements"
   ]
  },
  {
   "cell_type": "code",
   "execution_count": null,
   "metadata": {},
   "outputs": [],
   "source": [
    "#Measure mean accuracy of the model\n",
    "\n",
    "predicted = model.predict(test_x)\n",
    "model.score(test_x,test_y)"
   ]
  },
  {
   "cell_type": "code",
   "execution_count": null,
   "metadata": {},
   "outputs": [],
   "source": [
    "#Measure accuracy of the classification model with ROC AUC score\n",
    "\n",
    "from sklearn.metrics import roc_auc_score\n",
    "probabilities = model.predict_proba(test_x)\n",
    "roc_auc_score(test_y, probabilities [:,1])"
   ]
  },
  {
   "cell_type": "code",
   "execution_count": null,
   "metadata": {},
   "outputs": [],
   "source": [
    "#Generate an error matrix to measure the amount of correctly or incorrectly classified answers\n",
    "\n",
    "from sklearn.metrics import confusion_matrix\n",
    "confusion_matrix(test_y, predicted)"
   ]
  },
  {
   "cell_type": "code",
   "execution_count": null,
   "metadata": {},
   "outputs": [],
   "source": [
    "#Measure the precision of the model\n",
    "\n",
    "from sklearn.metrics import precision_score\n",
    "train_predictions = model.predict(train_x)\n",
    "precision_score(train_y, train_predictions, average=\"binary\", pos_label=\"1\")"
   ]
  },
  {
   "cell_type": "code",
   "execution_count": null,
   "metadata": {},
   "outputs": [],
   "source": [
    "#Recall score to measure ability of the classifier to find all the positive samples\n",
    "\n",
    "from sklearn.metrics import recall_score\n",
    "recall_score(train_y, train_predictions, average=\"binary\", pos_label=\"1\")"
   ]
  },
  {
   "cell_type": "markdown",
   "metadata": {},
   "source": [
    "## Visualize model output"
   ]
  },
  {
   "cell_type": "code",
   "execution_count": null,
   "metadata": {},
   "outputs": [],
   "source": [
    "#Render roc curve to visualize accuracy of the classification model\n",
    "\n",
    "from sklearn.metrics import roc_curve\n",
    "\n",
    "fpr, tpr, _ = roc_curve(test_y, probabilities[:, 1], pos_label='1')\n",
    "plt.plot(fpr, tpr)\n",
    "plt.plot([0, 1], [0, 1], color='black', lw=1, linestyle='--')\n",
    "plt.xlabel('False Positive Rate')\n",
    "plt.ylabel('True Positive Rate')"
   ]
  },
  {
   "cell_type": "markdown",
   "metadata": {},
   "source": [
    "## Predict probability of on-time-arrival "
   ]
  },
  {
   "cell_type": "code",
   "execution_count": null,
   "metadata": {},
   "outputs": [],
   "source": [
    "#Function to predict the likelihood of a flight arriving on time \n",
    "\n",
    "def predict_delay(scheduled_departure, origin_airport, destination_airport):\n",
    "    from datetime import datetime\n",
    "\n",
    "    try:\n",
    "        scheduled_departure_parsed = datetime.strptime(scheduled_departure, \"%H:%M\")\n",
    "    except ValueError as e:\n",
    "        return 'Error parsing date/time - {}'.format(e)\n",
    "\n",
    "    hour = scheduled_departure_parsed.hour\n",
    "\n",
    "    input = [{'SCHEDULED_DEPARTURE': hour,\n",
    "              'ORIGIN_AIRPORT_ATL': 1 if origin_airport == 'ATL' else 0,\n",
    "              'ORIGIN_AIRPORT_ORD': 1 if origin_airport == 'ORD' else 0,\n",
    "              'ORIGIN_AIRPORT_LAX': 1 if origin_airport == 'LAX' else 0,\n",
    "              'ORIGIN_AIRPORT_DFW': 1 if origin_airport == 'DFW' else 0,\n",
    "              'ORIGIN_AIRPORT_JFK': 1 if origin_airport == 'JFK' else 0,\n",
    "              'ORIGIN_AIRPORT_DEN': 1 if origin_airport == 'DEN' else 0,\n",
    "              'ORIGIN_AIRPORT_SFO': 1 if origin_airport == 'SFO' else 0,\n",
    "              'ORIGIN_AIRPORT_LAS': 1 if origin_airport == 'LAS' else 0,\n",
    "              'ORIGIN_AIRPORT_PHX': 1 if origin_airport == 'PHX' else 0,\n",
    "              'ORIGIN_AIRPORT_IAH': 1 if origin_airport == 'IAH' else 0,\n",
    "              'DESTINATION_AIRPORT_ATL': 1 if destination_airport == 'ATL' else 0,\n",
    "              'DESTINATION_AIRPORT__ORD': 1 if destination_airport == 'ORD' else 0,\n",
    "              'DESTINATION_AIRPORT__LAX': 1 if destination_airport == 'LAX' else 0,\n",
    "              'DESTINATION_AIRPORT__DFW': 1 if destination_airport == 'DFW' else 0,\n",
    "              'DESTINATION_AIRPORT__JFK': 1 if destination_airport == 'JFK' else 0,\n",
    "              'DESTINATION_AIRPORT__DEN': 1 if destination_airport == 'DEN' else 0,\n",
    "              'DESTINATION_AIRPORT__SFO': 1 if destination_airport == 'SFO' else 0,\n",
    "              'DESTINATION_AIRPORT__LAS': 1 if destination_airport == 'LAS' else 0,\n",
    "              'DESTINATION_AIRPORT__PHX': 1 if destination_airport == 'PHX' else 0,\n",
    "              'DESTINATION_AIRPORT__IAH': 1 if destination_airport == 'IAH' else 0 }]\n",
    "\n",
    "    return model.predict_proba(pd.DataFrame(input))[0][0]"
   ]
  },
  {
   "cell_type": "markdown",
   "metadata": {},
   "source": [
    "## Conversation bot for user input "
   ]
  },
  {
   "cell_type": "code",
   "execution_count": null,
   "metadata": {},
   "outputs": [],
   "source": [
    "# Lists for conversation bot\n",
    "\n",
    "greetings = [\"hello\", \"hi\", \"hey\", \"greetings\", \"ciao\", \"salut\", \"hallo\"]\n",
    "greeting_responses = [\"\\nHello,\", \"\\nHi,\", \"\\nHey,\", \"\\nGreetings,\", \"\\nNice to see you here,\"]\n",
    "airport_list = [\"ATL\", \"ORD\", \"LAX\", \"DFW\", \"JFK\", \"DEN\", \"SFO\", \"LAS\", \"PHX\", \"IAH\"]\n",
    "AIRPORT_QUESTIONS = [\"do you want to see the available airports?\", \"do you want to take a look at the available airports?\", \"do you want to see our list of available airports?\"]"
   ]
  },
  {
   "cell_type": "code",
   "execution_count": null,
   "metadata": {},
   "outputs": [],
   "source": [
    "#Function to return input\n",
    "\n",
    "def ask_input(txt):\n",
    "  return input(txt).split()"
   ]
  },
  {
   "cell_type": "code",
   "execution_count": null,
   "metadata": {},
   "outputs": [],
   "source": [
    "#Function for Yes or No \n",
    "\n",
    "def yes_or_no():\n",
    "  answer_yes_or_no = input(\"Please answer by yes or no: \")\n",
    "  while True:\n",
    "    if answer_yes_or_no.lower() == \"yes\":\n",
    "      return True\n",
    "      break\n",
    "    elif answer_yes_or_no.lower() == \"no\":\n",
    "      return False\n",
    "      break\n",
    "    else:\n",
    "      answer_yes_or_no = input(\"Oops, something went wrong here. Please only answer by yes or no! You may try again now: \")"
   ]
  },
  {
   "cell_type": "code",
   "execution_count": null,
   "metadata": {},
   "outputs": [],
   "source": [
    "#Function for bot greeting and call airport_possibilities \n",
    "\n",
    "def random_greeting(txt):\n",
    "    i = 0\n",
    "    sentence = ask_input(txt)\n",
    "    for s in range(len(sentence)):\n",
    "        if sentence[s].lower() in greetings:\n",
    "            greeting_answer = random.choice(greeting_responses)\n",
    "            greeting_answer += \" welcome to our flight delay calculator. Thanks to us you'll be home on time for Christmas! \"\n",
    "            print(greeting_answer)\n",
    "            airport_possibilities()\n",
    "            i = 1\n",
    "            break\n",
    "    if i == 0:\n",
    "        print(\"\\nOops, our bot doesn't work unless greeted\")\n",
    "        random_greeting(\"To find out which plane to take to be home on time for Christmas, please try again with a greeting: \")"
   ]
  },
  {
   "cell_type": "code",
   "execution_count": null,
   "metadata": {},
   "outputs": [],
   "source": [
    "#Function to display airport_list and call airport_departure\n",
    "\n",
    "def airport_possibilities():\n",
    "  print(\"\\nBefore we can calculate your delay, \" + random.choice(AIRPORT_QUESTIONS))\n",
    "  if yes_or_no():\n",
    "    print(\"\\nThe available airports are: \", \", \".join(airport_list))\n",
    "    airport_departure(\"Please enter the airport you are departing from : \")\n",
    "  else:\n",
    "    print(\"\\nOkay\")\n",
    "    airport_departure(\"Please enter the airport you are departing from : \")"
   ]
  },
  {
   "cell_type": "code",
   "execution_count": null,
   "metadata": {},
   "outputs": [],
   "source": [
    "#Function to check whether airport_departure is in list, store input as global variable and call airport_arrival  \n",
    "\n",
    "def airport_departure(chosen_airport_departure):\n",
    "    global str_chosen_airport_departure\n",
    "    i = 0\n",
    "    chosen_airport_departure = ask_input(chosen_airport_departure)\n",
    "    for word in chosen_airport_departure:\n",
    "        if word.upper() in airport_list:\n",
    "            airport_arrival(\"\\nPlease enter the airport you are going to :\")\n",
    "            i = 1\n",
    "            str_chosen_airport_departure = ' '.join([str(elem) for elem in chosen_airport_departure])\n",
    "            break\n",
    "    if i == 0:\n",
    "        print(\"\\nSorry, this airport is not available for our machine learning. Make sure you write the name correctly!\")\n",
    "        airport_departure(\"Try to enter the right name this time: \")"
   ]
  },
  {
   "cell_type": "code",
   "execution_count": null,
   "metadata": {},
   "outputs": [],
   "source": [
    "#Function to check whether airport_arrival is in list and store input as global variable\n",
    "\n",
    "def airport_arrival(chosen_airport_arrival):\n",
    "    global str_chosen_airport_arrival\n",
    "    i = 0\n",
    "    chosen_airport_arrival = ask_input(chosen_airport_arrival)\n",
    "    for word in chosen_airport_arrival:\n",
    "        if word.upper() in airport_list:           \n",
    "            i = 1\n",
    "            str_chosen_airport_arrival = ' '.join([str(elem) for elem in chosen_airport_arrival])\n",
    "            break\n",
    "    if i == 0:\n",
    "        print(\"\\nSorry, this airport is not available for our machine learning. Make sure you write the name correctly!\")\n",
    "        airport_arrival(\"Try to enter the right name this time: \")"
   ]
  },
  {
   "cell_type": "markdown",
   "metadata": {},
   "source": [
    "## Plot on-time-arrival for user input"
   ]
  },
  {
   "cell_type": "code",
   "execution_count": null,
   "metadata": {},
   "outputs": [],
   "source": [
    "#Start conversation bot and plot predictions\n",
    "\n",
    "random_greeting(\"Welcome to our chatbot. Please greet him: \")\n",
    "\n",
    "print(\"\\nGreat, you have chosen to go from %s to %s. Since Christmas is a busy time at the airport we predicted the probability of on-time-arrival for your trip for every hour. Choose wisely and have a safe trip. Merry Christmas!\" %(str_chosen_airport_departure.upper(), str_chosen_airport_arrival.upper()))\n",
    "labels = ('0:00', '1:00', '2:00', '3:00', '4:00', '5:00', '6:00', '7:00', '8:00', '9:00', '10:00', '11:00', '12:00', '13:00', '14:00', '15:00', '16:00', '17:00', '18:00', '19:00', '20:00', '21:00', '22:00', '23:00')\n",
    "values = (predict_delay(\"0:00\", str_chosen_airport_departure, str_chosen_airport_arrival),\n",
    "         predict_delay(\"1:00\", str_chosen_airport_departure, str_chosen_airport_arrival),\n",
    "         predict_delay(\"2:00\", str_chosen_airport_departure, str_chosen_airport_arrival),\n",
    "         predict_delay(\"3:00\", str_chosen_airport_departure, str_chosen_airport_arrival),\n",
    "         predict_delay(\"4:00\", str_chosen_airport_departure, str_chosen_airport_arrival),\n",
    "         predict_delay(\"5:00\", str_chosen_airport_departure, str_chosen_airport_arrival),\n",
    "         predict_delay(\"6:00\", str_chosen_airport_departure, str_chosen_airport_arrival),\n",
    "         predict_delay(\"7:00\", str_chosen_airport_departure, str_chosen_airport_arrival),\n",
    "         predict_delay(\"8:00\", str_chosen_airport_departure, str_chosen_airport_arrival),\n",
    "         predict_delay(\"9:00\", str_chosen_airport_departure, str_chosen_airport_arrival),\n",
    "         predict_delay(\"10:00\", str_chosen_airport_departure, str_chosen_airport_arrival),\n",
    "         predict_delay(\"11:00\", str_chosen_airport_departure, str_chosen_airport_arrival),\n",
    "         predict_delay(\"12:00\", str_chosen_airport_departure, str_chosen_airport_arrival),\n",
    "         predict_delay(\"13:00\", str_chosen_airport_departure, str_chosen_airport_arrival),\n",
    "         predict_delay(\"14:00\", str_chosen_airport_departure, str_chosen_airport_arrival),\n",
    "         predict_delay(\"15:00\", str_chosen_airport_departure, str_chosen_airport_arrival),\n",
    "         predict_delay(\"16:00\", str_chosen_airport_departure, str_chosen_airport_arrival),\n",
    "         predict_delay(\"17:00\", str_chosen_airport_departure, str_chosen_airport_arrival),\n",
    "         predict_delay(\"18:00\", str_chosen_airport_departure, str_chosen_airport_arrival),\n",
    "         predict_delay(\"19:00\", str_chosen_airport_departure, str_chosen_airport_arrival),\n",
    "         predict_delay(\"20:00\", str_chosen_airport_departure, str_chosen_airport_arrival),\n",
    "         predict_delay(\"21:00\", str_chosen_airport_departure, str_chosen_airport_arrival),\n",
    "         predict_delay(\"22:00\", str_chosen_airport_departure, str_chosen_airport_arrival),\n",
    "         predict_delay(\"22:00\", str_chosen_airport_departure, str_chosen_airport_arrival))    \n",
    "alabels = np.arange(len(labels))\n",
    "\n",
    "f, ax = plt.subplots(figsize=(18,5))\n",
    "plt.bar(alabels, values, align='center', alpha=0.5)\n",
    "plt.xticks(alabels, labels)\n",
    "plt.ylabel('Probability of On-Time Arrival')\n",
    "plt.ylim((0.0, 1.0))"
   ]
  }
 ],
 "metadata": {
  "kernelspec": {
   "display_name": "Python 3",
   "language": "python",
   "name": "python3"
  },
  "language_info": {
   "codemirror_mode": {
    "name": "ipython",
    "version": 3
   },
   "file_extension": ".py",
   "mimetype": "text/x-python",
   "name": "python",
   "nbconvert_exporter": "python",
   "pygments_lexer": "ipython3",
   "version": "3.7.4"
  }
 },
 "nbformat": 4,
 "nbformat_minor": 2
}
